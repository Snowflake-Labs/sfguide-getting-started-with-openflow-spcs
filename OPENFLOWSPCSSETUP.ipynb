{
 "cells": [
  {
   "cell_type": "markdown",
   "id": "c423ade2-a8a1-4705-920d-1b48ce7e6214",
   "metadata": {
    "collapsed": false,
    "name": "intro"
   },
   "source": [
    "# Openflow SPCS Setup Guide\n",
    "\n",
    "This notebook guides you through setting up Snowflake Openflow on Snowpark Container Services (SPCS). Openflow enables real-time data integration and streaming analytics directly within Snowflake.\n",
    "\n",
    "## Important Notes\n",
    "- **Preview Feature**: Openflow on SPCS is rolling out in preview to all accounts in AWS and Azure Commercial Regions from September 17, 2025\n",
    "- **Account Rollout**: Snowflake is gradually rolling out this feature. Not all accounts may have access immediately\n",
    "- **Compatibility**: This notebook is compliant with the September 2025 preview release of Openflow SPCS\n",
    "\n",
    "## Setup Overview\n",
    "\n",
    "This notebook follows the official Snowflake documentation and covers four main steps:\n",
    "\n",
    "1. **[Core Snowflake Setup](https://docs.snowflake.com/en/user-guide/data-integration/openflow/setup-openflow-spcs-sf)** - Configure roles, privileges, and network rules\n",
    "2. **[Create Deployment](https://docs.snowflake.com/en/user-guide/data-integration/openflow/setup-openflow-spcs-deployment)** - Set up the Openflow deployment environment\n",
    "3. **[Create Runtime Role](https://docs.snowflake.com/en/user-guide/data-integration/openflow/setup-openflow-spcs-create-rr)** - Configure runtime permissions\n",
    "4. **[Create Runtime](https://docs.snowflake.com/en/user-guide/data-integration/openflow/setup-openflow-spcs-create-runtime)** - Deploy the runtime environment\n",
    "\n",
    "## Prerequisites\n",
    "- `ACCOUNTADMIN` role or equivalent privileges\n",
    "- Access to Snowsight (Snowflake web interface)\n",
    "- Account in AWS or Azure Commercial Regions\n",
    "- Understanding of your network security requirements\n"
   ]
  },
  {
   "cell_type": "code",
   "execution_count": null,
   "id": "619d1f5f-1c57-4977-81e6-05eb2958dd56",
   "metadata": {
    "language": "python",
    "name": "configParams"
   },
   "outputs": [],
   "source": [
    "# Configuration - Update these values for your environment\n",
    "# ==========================================================\n",
    "\n",
    "# Set Implementation Role\n",
    "IMPLEMENTATION_ROLE = \"ACCOUNTADMIN\"\n",
    "\n",
    "# Context where objects are created\n",
    "DATABASE = \"OPENFLOW\"\n",
    "SCHEMA = \"OPENFLOW\"\n",
    "\n",
    "# User Configuration\n",
    "OPENFLOW_USER = \"DCHAFFELSON\"  # Update with the user that will access Openflow\n",
    "\n",
    "# Warehouse Configuration\n",
    "WAREHOUSE_NAME = \"OPENFLOW_WH\"  # Update to your warehouse name\n",
    "\n",
    "# Network Configuration (from ingressPersistenceTask.ipynb)\n",
    "INGRESS_NETWORK_RULE_NAME = \"ALLOW_OPENFLOW_DEPLOYMENT_INGRESS\"\n",
    "SNOWPIPE_STREAMING_NETWORK_RULE_NAME = \"OPENFLOW_SNOWPIPE_STREAMING_NETWORK_RULE\"\n",
    "SNOWPIPE_STREAMING_EAI_NAME = \"OPENFLOW_SNOWPIPE_STREAMING_EAI\"\n",
    "IP_ADDRESS_LIST = \"('10.16.0.0/12')\"  # SPCS range + your BYOC deployment IP if you have one\n",
    "NETWORK_POLICY_NAME = \"ACCOUNT_VPN_POLICY_SE\"  # Update if you have account-level network policy\n",
    "\n",
    "# Openflow Deployment Configuration\n",
    "DEPLOYMENT_NAME = \"SPCS1\"\n",
    "EVENT_TABLE_NAME = \"EVENTS\"\n",
    "\n",
    "# Runtime Configuration\n",
    "ADMIN_ROLE_NAME = \"OPENFLOWADMIN\"\n",
    "RUNTIME_NAME = DEPLOYMENT_NAME + \"_RUNTIME1\"\n",
    "RUNTIME_ROLE_NAME = \"OPENFLOWRUNTIMEROLE_\" + RUNTIME_NAME\n",
    "\n",
    "print(\"✓ Configuration variables set successfully!\")\n",
    "print(f\"Database: {DATABASE}\")\n",
    "print(f\"Schema: {SCHEMA}\")\n",
    "print(f\"Openflow User: {OPENFLOW_USER}\")\n",
    "print(f\"Deployment: {DEPLOYMENT_NAME}\")\n",
    "print(f\"Warehouse: {WAREHOUSE_NAME}\")\n",
    "print(f\"Ingress Network Rule: {INGRESS_NETWORK_RULE_NAME}\")\n",
    "print(f\"Snowpipe Streaming Network Rule: {SNOWPIPE_STREAMING_NETWORK_RULE_NAME}\")\n",
    "print(f\"Snowpipe Streaming EAI: {SNOWPIPE_STREAMING_EAI_NAME}\")\n",
    "print(f\"IP Addresses: {IP_ADDRESS_LIST}\")\n",
    "print(f\"Runtime Role: {RUNTIME_ROLE_NAME}\")\n",
    "print(f\"Event Table: {EVENT_TABLE_NAME}\")\n"
   ]
  },
  {
   "cell_type": "markdown",
   "id": "082843f3-fb25-4b80-ad48-6e2e96381f1c",
   "metadata": {
    "name": "step1"
   },
   "source": [
    "## Step 1: Core Snowflake Setup\n",
    "\n",
    "This step sets up the foundational Snowflake resources required for Openflow SPCS deployment.\n",
    "\n",
    "**Reference**: [Set up Openflow - Snowflake Deployment: Core Snowflake](https://docs.snowflake.com/en/user-guide/data-integration/openflow/setup-openflow-spcs-sf)\n",
    "\n",
    "### What we'll create:\n",
    "1. **OPENFLOW_ADMIN role** - Administrative role for managing Openflow\n",
    "2. **Required privileges** - Account-level permissions for Openflow operations\n",
    "3. **Network rule** - Allow ingress from SPCS and your BYOC deployment (if account-level network policy exists)\n",
    "4. **BCR Bundle 2025_06** - Enable required behavior for integration-level network policies\n"
   ]
  },
  {
   "cell_type": "markdown",
   "id": "0c467ba4-69fb-4c16-b681-a9377ad805a9",
   "metadata": {
    "name": "step1_1"
   },
   "source": [
    "### Step 1.1: Set Context and Create OPENFLOW_ADMIN Role\n"
   ]
  },
  {
   "cell_type": "code",
   "execution_count": null,
   "id": "ce110000-1111-2222-3333-ffffff000000",
   "metadata": {
    "language": "sql",
    "name": "createOpenflowDBandRole",
    "vscode": {
     "languageId": "sql"
    }
   },
   "outputs": [],
   "source": [
    "-- Set context and create the OPENFLOW_ADMIN role\n",
    "USE ROLE {{IMPLEMENTATION_ROLE}};\n",
    "\n",
    "-- Create database and schema if they don't exist\n",
    "CREATE DATABASE IF NOT EXISTS {{DATABASE}};\n",
    "CREATE SCHEMA IF NOT EXISTS {{DATABASE}}.{{SCHEMA}};\n",
    "USE DATABASE {{DATABASE}};\n",
    "USE SCHEMA {{SCHEMA}};\n",
    "\n",
    "-- Create the OPENFLOW_ADMIN role\n",
    "CREATE ROLE IF NOT EXISTS {{ADMIN_ROLE_NAME}};\n",
    "\n",
    "-- Grant the role to the specified user\n",
    "GRANT ROLE {{ADMIN_ROLE_NAME}} TO USER {{OPENFLOW_USER}};\n",
    "\n",
    "-- Set the default role for the Openflow user as it cannot be ACCOUNTADMIN\n",
    "ALTER USER {{OPENFLOW_USER}} SET DEFAULT_ROLE = '{{ADMIN_ROLE_NAME}}';"
   ]
  },
  {
   "cell_type": "markdown",
   "id": "059e0674-8f5a-4ad3-ba0b-70a2372e813a",
   "metadata": {
    "name": "step1_2"
   },
   "source": [
    "### Step 1.2: Grant Required Privileges\n"
   ]
  },
  {
   "cell_type": "code",
   "execution_count": null,
   "id": "6c4fdfed-201a-45d7-bcca-280008423b6d",
   "metadata": {
    "language": "sql",
    "name": "grantPrivs",
    "vscode": {
     "languageId": "sql"
    }
   },
   "outputs": [],
   "source": [
    "-- Grant required Openflow privileges to OPENFLOW_ADMIN role\n",
    "GRANT CREATE OPENFLOW DATA PLANE INTEGRATION ON ACCOUNT TO ROLE {{ADMIN_ROLE_NAME}};\n",
    "GRANT CREATE OPENFLOW RUNTIME INTEGRATION ON ACCOUNT TO ROLE {{ADMIN_ROLE_NAME}};\n",
    "\n",
    "-- Compute pools is required for Openflow Deployments\n",
    "GRANT CREATE COMPUTE POOL ON ACCOUNT TO ROLE {{ADMIN_ROLE_NAME}};\n",
    "\n",
    "-- We want the Openflow Admin to create and own the Runtime Roles later on\n",
    "GRANT CREATE ROLE ON ACCOUNT TO ROLE {{ADMIN_ROLE_NAME}};\n",
    "\n",
    "-- We also want the Admin to create and use the event table later\n",
    "GRANT USAGE ON DATABASE {{DATABASE}} TO ROLE {{ADMIN_ROLE_NAME}};\n",
    "GRANT USAGE ON SCHEMA {{DATABASE}}.{{SCHEMA}} TO ROLE {{ADMIN_ROLE_NAME}};\n",
    "GRANT CREATE EVENT TABLE ON SCHEMA {{DATABASE}}.{{SCHEMA}} TO ROLE {{ADMIN_ROLE_NAME}};"
   ]
  },
  {
   "cell_type": "markdown",
   "id": "8c5b2cb8-7e7a-4398-b158-6481394940c0",
   "metadata": {
    "name": "step1_3"
   },
   "source": [
    "### Step 1.3: Create Network Rule (Only if Account-Level Network Policy Exists)\n",
    "\n",
    "**Note**: This step is only required if you have an active account-level network policy. Check in Snowsight under **Governance & Security** > **Network Policies** for policies with status \"Active on account\".\n"
   ]
  },
  {
   "cell_type": "code",
   "execution_count": null,
   "id": "e4e3682a-9641-4109-af55-89a243a25a1f",
   "metadata": {
    "language": "sql",
    "name": "networkRule",
    "vscode": {
     "languageId": "sql"
    }
   },
   "outputs": [],
   "source": [
    "-- OPTIONAL Create network rule for Openflow SPCS ingress (only if account network policy exists)\n",
    "-- Create the network rule using the configuration from ingressPersistenceTask.ipynb\n",
    "CREATE OR REPLACE NETWORK RULE {{INGRESS_NETWORK_RULE_NAME}}\n",
    "   MODE = INGRESS\n",
    "   TYPE = IPV4\n",
    "   VALUE_LIST = {{IP_ADDRESS_LIST}}\n",
    "   COMMENT = 'Allow ingress from Openflow SPCS (10.16.0.0/12) and BYOC deployment';\n",
    "\n",
    "-- Add the network rule to your account-level network policy (uncomment and update if needed)\n",
    "-- ALTER NETWORK POLICY {{NETWORK_POLICY_NAME}} ADD ALLOWED_NETWORK_RULE_LIST = ({{NETWORK_RULE_NAME}});"
   ]
  },
  {
   "cell_type": "markdown",
   "id": "72670543-7c27-4d6d-9a3d-51d089d88b04",
   "metadata": {
    "name": "applyRuleAdvice"
   },
   "source": [
    "#### Apply the Rule to your Network Policy if you have one\n",
    "\n",
    "**IMPORTANT** The SET operator here will override the Network Policy Rule List. If you have existing rules you should add this Ingress rule to them, or they will be squashed"
   ]
  },
  {
   "cell_type": "code",
   "execution_count": null,
   "id": "c9a3f41a-687b-4b23-ba3f-54ca64266315",
   "metadata": {
    "language": "sql",
    "name": "applyNetworkPolicy",
    "vscode": {
     "languageId": "sql"
    }
   },
   "outputs": [],
   "source": [
    "-- By default, you should add the new rule to the existing list\n",
    "ALTER NETWORK POLICY {{NETWORK_POLICY_NAME}} ADD ALLOWED_NETWORK_RULE_LIST= ({{INGRESS_NETWORK_RULE_NAME}});\n",
    "\n",
    "-- Alternatively, you can set the entire list at once, but it will remove all other rules\n",
    "-- ALTER NETWORK POLICY {{NETWORK_POLICY_NAME}} SET ALLOWED_NETWORK_RULE_LIST = ({{INGRESS_NETWORK_RULE_NAME}});"
   ]
  },
  {
   "cell_type": "markdown",
   "id": "3ee4640a-0489-416f-bc63-56c93df74e03",
   "metadata": {
    "name": "step1_4"
   },
   "source": [
    "### Step 1.4: Enable BCR Bundle 2025_06\n",
    "\n",
    "This bundle is required for Database CDC, SaaS, Streaming, or Slack connectors to ensure connectivity to Snowpipe Streaming.\n"
   ]
  },
  {
   "cell_type": "code",
   "execution_count": null,
   "id": "b4100bef-df11-46e1-a9a8-d66d53cae550",
   "metadata": {
    "language": "sql",
    "name": "getBundleStatus",
    "vscode": {
     "languageId": "sql"
    }
   },
   "outputs": [],
   "source": [
    "-- Check and enable BCR Bundle 2025_06\n",
    "-- Check the current status of the bundle\n",
    "CALL SYSTEM$BEHAVIOR_CHANGE_BUNDLE_STATUS('2025_06');"
   ]
  },
  {
   "cell_type": "code",
   "execution_count": null,
   "id": "ddf9cab9-7a1b-45e6-bf72-c3865fbf4a3e",
   "metadata": {
    "language": "sql",
    "name": "setBundle",
    "vscode": {
     "languageId": "sql"
    }
   },
   "outputs": [],
   "source": [
    "-- Enable the bundle if it's disabled\n",
    "CALL SYSTEM$ENABLE_BEHAVIOR_CHANGE_BUNDLE('2025_06');"
   ]
  },
  {
   "cell_type": "markdown",
   "id": "3a7e6ed0-e54f-4139-b12a-738042db4cc4",
   "metadata": {
    "name": "step2"
   },
   "source": [
    "## Step 2: Create Openflow Deployment\n",
    "\n",
    "This step creates the Openflow deployment environment with integrated event logging.\n",
    "\n",
    "**Reference**: [Set up Openflow - Snowflake Deployment: Create deployment](https://docs.snowflake.com/en/user-guide/data-integration/openflow/setup-openflow-spcs-deployment)\n",
    "\n",
    "### What we'll do:\n",
    "1. **Create Deployment via UI** - Use Snowsight to create the deployment  \n",
    "2. **Create and Configure Event Table** - Essential for logging, created and applied immediately\n"
   ]
  },
  {
   "cell_type": "code",
   "execution_count": null,
   "id": "d9faae7f-61ca-43ac-9fd3-75c7331b564e",
   "metadata": {
    "language": "sql",
    "name": "showDeploymentParams",
    "vscode": {
     "languageId": "sql"
    }
   },
   "outputs": [],
   "source": [
    "-- Display key variables for deployment creation\n",
    "SELECT\n",
    "    '{{ADMIN_ROLE_NAME}}' AS ADMIN_ROLE_NAME,\n",
    "    '{{DEPLOYMENT_NAME}}' AS DEPLOYMENT_NAME;"
   ]
  },
  {
   "cell_type": "markdown",
   "id": "33456eb4-7e34-4598-b46c-4d345f70a587",
   "metadata": {
    "collapsed": false,
    "name": "step2_1"
   },
   "source": [
    "### Step 2.1: Launch Openflow and Create Deployment\n",
    "\n",
    "**Important**: The deployment creation must be done through the Snowsight web interface. Follow the official process:\n",
    "\n",
    "**Reference**: [Create a deployment](https://docs.snowflake.com/en/user-guide/data-integration/openflow/setup-openflow-spcs-deployment#create-a-deployment)\n",
    "\n",
    "Follow these steps:\n",
    "\n",
    "1. **Navigate to Openflow**:\n",
    "   - Log into Snowsight with your `{{ADMIN_ROLE_NAME}}` role\n",
    "   - Go to **Data** > **Openflow** in the left navigation\n",
    "\n",
    "2. **Launch Openflow**:\n",
    "   - Click **Launch Openflow** button to open the Openflow interface\n",
    "\n",
    "3. **Create New Deployment**:\n",
    "   - In the Openflow UI, go to the **Deployments** tab\n",
    "   - click **Create a deployment**\n",
    "   - click **Next** on Prerequisites\n",
    "   - Enter deployment name: `{{DEPLOYMENT_NAME}}`\n",
    "   - Optionally you may supply additional roles here\n",
    "   - click **Create Deployment**\n",
    "\n",
    "4. **Complete Creation**:\n",
    "   - You will get a popup notifying the wait time, click **Close**\n",
    "   - Wait for deployment status to show \"Active\"\n"
   ]
  },
  {
   "cell_type": "markdown",
   "id": "a0b0231a-1345-44fb-a394-8da7edc0c73a",
   "metadata": {
    "name": "step2_2"
   },
   "source": [
    "### Step 2.2: Create Event Table and Link to Deployment\n",
    "\n",
    "Now that the deployment exists, create the event table and link it to the deployment for logging.\n"
   ]
  },
  {
   "cell_type": "code",
   "execution_count": null,
   "id": "f1f0fae8-8fc8-4522-9ba1-98b6c6dae301",
   "metadata": {
    "language": "sql",
    "name": "createEventTable",
    "vscode": {
     "languageId": "sql"
    }
   },
   "outputs": [],
   "source": [
    "-- Create event table for Openflow logging\n",
    "USE ROLE {{ADMIN_ROLE_NAME}};\n",
    "\n",
    "CREATE EVENT TABLE IF NOT EXISTS {{DATABASE}}.{{SCHEMA}}.{{EVENT_TABLE_NAME}}\n",
    "  COMMENT = 'Event table for Openflow deployment logging and monitoring';\n",
    "\n",
    "-- Verify the event table was created\n",
    "DESCRIBE EVENT TABLE {{EVENT_TABLE_NAME}};"
   ]
  },
  {
   "cell_type": "code",
   "execution_count": null,
   "id": "bfd0c8cb-3221-4e4e-9fdd-840a850e50b9",
   "metadata": {
    "language": "sql",
    "name": "findDeploymentName",
    "vscode": {
     "languageId": "sql"
    }
   },
   "outputs": [],
   "source": [
    "-- Link event table to deployment\n",
    "-- First, get the deployment UUID\n",
    "SHOW OPENFLOW DATA PLANE INTEGRATIONS;\n",
    "\n",
    "-- Pick your Deployment from the list. It's probably the most recent.\n",
    "-- If you're not sure, you can get the UUID in the UI from the deployment details"
   ]
  },
  {
   "cell_type": "code",
   "execution_count": null,
   "id": "f042c560-5835-45f1-b8d0-9c9acb4176e8",
   "metadata": {
    "codeCollapsed": false,
    "language": "sql",
    "name": "setDeploymentEventsTable",
    "vscode": {
     "languageId": "sql"
    }
   },
   "outputs": [],
   "source": [
    "-- Then set the event table (replace the UUID with the one from above)\n",
    "ALTER OPENFLOW DATA PLANE INTEGRATION OPENFLOW_DATAPLANE_5FAC6F12_3054_4AF5_BDF0_4B4306E29EFB\n",
    "SET EVENT_TABLE = '{{DATABASE}}.{{SCHEMA}}.{{EVENT_TABLE_NAME}}';"
   ]
  },
  {
   "cell_type": "markdown",
   "id": "98f524fd-fd73-47da-a934-179be86e3f51",
   "metadata": {
    "collapsed": false,
    "name": "step3"
   },
   "source": [
    "## Step 3: Create Runtime Role\n",
    "\n",
    "This step creates a dedicated role for runtime operations with the necessary privileges.\n",
    "\n",
    "**Reference**: [Set up Openflow - Snowflake Deployment: Create Runtime role](https://docs.snowflake.com/en/user-guide/data-integration/openflow/setup-openflow-spcs-create-rr)\n",
    "\n",
    "### What we'll create:\n",
    "1. **Runtime Role** - Dedicated role for runtime operations\n",
    "2. **Required Privileges** - Permissions needed for runtime execution\n",
    "3. **Account Objects** - A warehouse and EAI for accessing necessary services\n"
   ]
  },
  {
   "cell_type": "markdown",
   "id": "cea6e70f-c183-48c5-8696-a5cbe5804044",
   "metadata": {
    "name": "step3_1"
   },
   "source": [
    "### Step 3.1: Create Runtime Role\n"
   ]
  },
  {
   "cell_type": "code",
   "execution_count": null,
   "id": "c3baff6a-42ce-42d1-a384-09a29fed351b",
   "metadata": {
    "language": "sql",
    "name": "createRuntimeRole",
    "vscode": {
     "languageId": "sql"
    }
   },
   "outputs": [],
   "source": [
    "-- Create runtime role for Openflow operations\n",
    "USE ROLE {{ADMIN_ROLE_NAME}};\n",
    "-- Create the runtime role\n",
    "CREATE ROLE IF NOT EXISTS {{RUNTIME_ROLE_NAME}};\n",
    "\n",
    "-- Grant the runtime role to OPENFLOW_ADMIN for management\n",
    "GRANT ROLE {{RUNTIME_ROLE_NAME}} TO ROLE {{ADMIN_ROLE_NAME}};\n",
    "\n",
    "-- Grant the runtime role to the Openflow user\n",
    "GRANT ROLE {{RUNTIME_ROLE_NAME}} TO USER {{OPENFLOW_USER}};"
   ]
  },
  {
   "cell_type": "markdown",
   "id": "edb7a3de-ac01-45e8-8a8a-958623d87b03",
   "metadata": {
    "collapsed": false,
    "name": "step3_2"
   },
   "source": [
    "### Step 3.2: Create a Warehouse for Openflow Connectors that need one"
   ]
  },
  {
   "cell_type": "code",
   "execution_count": null,
   "id": "95dedc83-ec00-44c0-a435-edafcb8d38a0",
   "metadata": {
    "language": "sql",
    "name": "createWarehouse",
    "vscode": {
     "languageId": "sql"
    }
   },
   "outputs": [],
   "source": [
    "CREATE OR REPLACE WAREHOUSE {{WAREHOUSE_NAME}}\n",
    "     WITH\n",
    "         WAREHOUSE_SIZE = 'XSMALL'\n",
    "         AUTO_SUSPEND = 120\n",
    "         AUTO_RESUME = TRUE;"
   ]
  },
  {
   "cell_type": "markdown",
   "id": "b31083c1-02f4-4057-b904-09d7651feb58",
   "metadata": {
    "collapsed": false,
    "name": "step3_3"
   },
   "source": [
    "### Step 3.3: Grant Runtime Privileges\n",
    "\n",
    "Grant the necessary privileges for runtime operations including database access and compute pool usage.\n"
   ]
  },
  {
   "cell_type": "code",
   "execution_count": null,
   "id": "2a01429b-e11e-4115-8d8c-de418e4da7d7",
   "metadata": {
    "language": "sql",
    "name": "grantPrivsToRuntimeRole",
    "vscode": {
     "languageId": "sql"
    }
   },
   "outputs": [],
   "source": [
    "-- Grant runtime privileges\n",
    "-- Database and schema access\n",
    "GRANT USAGE ON DATABASE {{DATABASE}} TO ROLE {{RUNTIME_ROLE_NAME}};\n",
    "GRANT USAGE ON SCHEMA {{DATABASE}}.{{SCHEMA}} TO ROLE {{RUNTIME_ROLE_NAME}};\n",
    "\n",
    "-- Warehouse usage for runtime operations\n",
    "GRANT USAGE, OPERATE ON WAREHOUSE {{WAREHOUSE_NAME}} TO ROLE {{RUNTIME_ROLE_NAME}};\n",
    "\n",
    "-- Table creation and management privileges\n",
    "GRANT CREATE TABLE ON SCHEMA {{DATABASE}}.{{SCHEMA}} TO ROLE {{RUNTIME_ROLE_NAME}};\n",
    "GRANT CREATE VIEW ON SCHEMA {{DATABASE}}.{{SCHEMA}} TO ROLE {{RUNTIME_ROLE_NAME}};\n",
    "GRANT CREATE STAGE ON SCHEMA {{DATABASE}}.{{SCHEMA}} TO ROLE {{RUNTIME_ROLE_NAME}};\n",
    "\n",
    "-- Event table access for logging\n",
    "GRANT INSERT ON EVENT TABLE {{DATABASE}}.{{SCHEMA}}.{{EVENT_TABLE_NAME}} TO ROLE {{RUNTIME_ROLE_NAME}};\n",
    "GRANT SELECT ON EVENT TABLE {{DATABASE}}.{{SCHEMA}}.{{EVENT_TABLE_NAME}} TO ROLE {{RUNTIME_ROLE_NAME}};"
   ]
  },
  {
   "cell_type": "markdown",
   "id": "f146f740-ee6b-49b8-8ffb-ca06b5be31a5",
   "metadata": {
    "collapsed": false,
    "name": "step3_4"
   },
   "source": [
    "### Step 3.4: Grant Access to Existing External Access Integrations\n",
    "\n",
    "If you have existing External Access Integrations (EAIs) for connectors, databases, or external APIs, grant access to the runtime role so they can be used in your runtime.\n"
   ]
  },
  {
   "cell_type": "code",
   "execution_count": null,
   "id": "a6ab88fe-9d57-43b3-b8b3-9d6ea3a0a70b",
   "metadata": {
    "language": "sql",
    "name": "listEAIs",
    "vscode": {
     "languageId": "sql"
    }
   },
   "outputs": [],
   "source": [
    "-- List all existing External Access Integrations in the account\n",
    "SHOW EXTERNAL ACCESS INTEGRATIONS;\n",
    "\n",
    "-- This will show you all available EAIs that you might want to grant to your runtime role"
   ]
  },
  {
   "cell_type": "code",
   "execution_count": null,
   "id": "c4659ecb-7202-4b3d-b1a6-1205817c15aa",
   "metadata": {
    "language": "sql",
    "name": "grantOtherEAIs",
    "vscode": {
     "languageId": "sql"
    }
   },
   "outputs": [],
   "source": [
    "-- Grant USAGE on relevant EAIs to the runtime role\n",
    "-- Uncomment and modify the lines below for EAIs you want to use in your runtime\n",
    "\n",
    "-- Examples of common EAI grants:\n",
    "-- GRANT USAGE ON INTEGRATION <YOUR_DATABASE_EAI> TO ROLE {{RUNTIME_ROLE_NAME}};\n",
    "-- GRANT USAGE ON INTEGRATION <YOUR_API_EAI> TO ROLE {{RUNTIME_ROLE_NAME}};\n",
    "-- GRANT USAGE ON INTEGRATION <YOUR_CONNECTOR_EAI> TO ROLE {{RUNTIME_ROLE_NAME}};\n",
    "\n",
    "-- The Snowpipe Streaming EAI we created above:\n",
    "-- GRANT USAGE ON INTEGRATION OPENFLOW_SNOWPIPE_STREAMING_EAI TO ROLE {{RUNTIME_ROLE_NAME}};\n",
    "\n",
    "-- Verify grants\n",
    "SHOW GRANTS TO ROLE {{RUNTIME_ROLE_NAME}};"
   ]
  },
  {
   "cell_type": "markdown",
   "id": "e219a538-b071-45ac-b6a3-b01a88134a40",
   "metadata": {
    "collapsed": false,
    "name": "step4"
   },
   "source": [
    "## Step 4: Create Runtime\n",
    "\n",
    "This step creates the compute pool and runtime environment where Openflow data flows will execute.\n",
    "\n",
    "**Reference**: [Set up Openflow - Snowflake Deployment: Create Runtime](https://docs.snowflake.com/en/user-guide/data-integration/openflow/setup-openflow-spcs-create-runtime)\n",
    "\n",
    "### What we'll create:\n",
    "2. **Runtime** - The execution environment for Openflow operations\n",
    "3. **Runtime Configuration** - Size and scaling settings\n"
   ]
  },
  {
   "cell_type": "code",
   "execution_count": null,
   "id": "61fc33c6-a136-48f8-9f53-6376def18cdd",
   "metadata": {
    "language": "sql",
    "name": "showRuntimeParams",
    "vscode": {
     "languageId": "sql"
    }
   },
   "outputs": [],
   "source": [
    "-- Display key variables for runtime creation\n",
    "SELECT\n",
    "    '{{RUNTIME_NAME}}' AS RUNTIME_NAME;"
   ]
  },
  {
   "cell_type": "markdown",
   "id": "ac47ace6-f0d3-471d-98e5-c9e33a4158f4",
   "metadata": {
    "collapsed": false,
    "name": "createRuntime"
   },
   "source": [
    "### Step 4.1: Create Runtime via Snowsight UI\n",
    "\n",
    "**Important**: Runtime creation is done through the Snowsight web interface. Follow these steps:\n",
    "\n",
    "1. **Navigate to Deployment**:\n",
    "   - In Snowsight, go to **Data** > **Openflow**\n",
    "   - Click **Launch Openflow** \n",
    "   - Click on the **Runtimes** tab\n",
    "\n",
    "2. **Create New Runtime**:\n",
    "   - Click **+ Create Runtime** button\n",
    "   - Select your Deployment\n",
    "   - Enter runtime name: `{{RUNTIME_NAME}}`\n",
    "   - Select Node Type: Medium is recommended\n",
    "   - Select Min Nodes: 1 is recommended\n",
    "   - Select Max Noddes: 3 is recommended\n",
    "   - Select your Runtime Role created earlier\n",
    "   - Select your EAIs you created earlier\n",
    "\n",
    "**NOTE: If your Runtime Role is not in the list, refresh or reload the Control Plane tab**\n",
    "\n",
    "**NOTE: Any EAIs you select must already be GRANTed to the Runtime Role**\n",
    "\n",
    "3. **Complete Creation**:\n",
    "   - Review all settings\n",
    "   - Click **Create** to finalize the runtime\n",
    "\n",
    "Wait for the Runtime creation to complete.\n",
    "\n",
    "You may then Click on the Runtime name to launch it, or browse the Connector catalog."
   ]
  },
  {
   "cell_type": "markdown",
   "id": "39564b84-e74b-46e3-9e97-f98e62e4df08",
   "metadata": {
    "collapsed": false,
    "name": "step5"
   },
   "source": [
    "# Step 5: Remove Openflow\n",
    "If you want to strip out the changes made to the account, you can run this cell.\n",
    "\n",
    "**IMPORTANT** This will unset the network rule, if you have other network rules in play ensure you only remove the Openflow ones"
   ]
  },
  {
   "cell_type": "code",
   "execution_count": null,
   "id": "2b21c071-bee0-4509-b2ef-70442ca9ad56",
   "metadata": {
    "language": "sql",
    "name": "removeOpenflow",
    "vscode": {
     "languageId": "sql"
    }
   },
   "outputs": [],
   "source": [
    "-- Step 1: Stop and drop tasks that depend on database objects\n",
    "USE ROLE {{IMPLEMENTATION_ROLE}};\n",
    "USE DATABASE {{DATABASE}};\n",
    "USE SCHEMA {{SCHEMA}};\n",
    "\n",
    "-- Step 2: Remove network rules from account-level network policy (if they were added)\n",
    "-- This is required before dropping the database to avoid policy association errors\n",
    "-- IMPORTANT: This will unset the Network Policy Rule List. If you have other rules in play ensure you only remove the Openflow ones\n",
    "ALTER NETWORK POLICY {{NETWORK_POLICY_NAME}} UNSET ALLOWED_NETWORK_RULE_LIST;\n",
    "\n",
    "-- Step 3: Drop account-level security objects (integrations and roles)\n",
    "DROP ROLE IF EXISTS {{RUNTIME_ROLE_NAME}};\n",
    "ALTER USER {{OPENFLOW_USER}} SET DEFAULT_ROLE = '{{IMPLEMENTATION_ROLE}}';\n",
    "DROP ROLE IF EXISTS {{ADMIN_ROLE_NAME}};\n",
    "\n",
    "-- Step 4: Drop Warehouse\n",
    "DROP WAREHOUSE IF EXISTS {{WAREHOUSE_NAME}};\n",
    "\n",
    "-- Step 5: Drop the entire database (removes all child objects automatically)\n",
    "-- This includes: network rules, event tables, stages, and all other database objects\n",
    "DROP DATABASE IF EXISTS {{DATABASE}};"
   ]
  }
 ],
 "metadata": {
  "language_info": {
   "name": "python"
  },
  "lastEditStatus": {
   "authorEmail": "dan.chaffelson@snowflake.com",
   "authorId": "75544643758",
   "authorName": "DCHAFFELSON",
   "lastEditTime": 1758652318029,
   "notebookId": "e4tlwmmczjfokvloxlcr",
   "sessionId": "c47ed7f7-efeb-46da-8faf-a3a255bec7ea"
  }
 },
 "nbformat": 4,
 "nbformat_minor": 5
}
