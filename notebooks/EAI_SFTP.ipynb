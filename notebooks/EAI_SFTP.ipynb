{
 "cells": [
  {
   "cell_type": "markdown",
   "id": "92468f8e-21c5-416e-9398-c04ad416dec6",
   "metadata": {
    "collapsed": false,
    "name": "Intro"
   },
   "source": [
    "# SPCS SFTP Connectivity Test\n",
    "\n",
    "This notebook provides modular components for testing SFTP connectivity from Snowflake Container Services (SPCS):\n",
    "\n",
    "## Quick Start Options:\n",
    "1. **Basic Test**: Configure parameters and run network/auth tests\n",
    "2. **Full Setup**: Use cells to set up PyPI access and SFTP EAI as needed\n",
    "3. **Custom Setup**: Pick and choose individual components as needed\n",
    "\n",
    "## Components Available:\n",
    "- **Configuration**: Set your SFTP connection parameters\n",
    "- **PyPI Setup**: Optional - enables installing SFTP driver from PyPI\n",
    "- **Network Test**: Tests basic network connectivity to SFTP host\n",
    "- **Authentication Test**: Tests SFTP authentication and list directories\n",
    "- **SFTP EAI**: Optional - configures External Access Integration for SFTP\n",
    "\n",
    "\n",
    "**Note: You must restart the Session after making EAI changes for them to take effect**"
   ]
  },
  {
   "cell_type": "code",
   "execution_count": null,
   "id": "3775908f-ca36-4846-8f38-5adca39217f2",
   "metadata": {
    "language": "python",
    "name": "initConfig"
   },
   "outputs": [],
   "source": [
    "# SFTP Connectivity Test Configuration\n",
    "# Update these parameters with your actual SFTP connection details\n",
    "\n",
    "# User Configuration - UPDATE THIS\n",
    "SFTP_HOST = \"s-abcdef123.server.us-east-2.rds.amazonaws.com\"\n",
    "SFTP_PORT = 22\n",
    "SFTP_USER = \"demo\"\n",
    "SFTP_PASS = \"password\"\n",
    "\n",
    "print(f\"Configuration:\")\n",
    "print(f\"SFTP Host: {SFTP_HOST}\")\n",
    "print(f\"SFTP Port: {SFTP_PORT}\")\n",
    "print(f\"SFTP User: {SFTP_USER}\")\n",
    "print(\"\\nReady to test connectivity...\")"
   ]
  },
  {
   "cell_type": "markdown",
   "id": "c1e49489-2c8b-43fc-9362-45681d5bec6d",
   "metadata": {
    "collapsed": false,
    "name": "PyPiSetupInstructions"
   },
   "source": [
    "## 1. PyPI Setup (Optional)\n",
    "\n",
    "Run these cells if you need to install paramiko from PyPI. This creates the necessary network rules and External Access Integration for PyPI access.\n",
    "\n",
    "**Skip this section if you already have installed or have PyPI access configured.**\n"
   ]
  },
  {
   "cell_type": "code",
   "execution_count": null,
   "id": "4c417109-db2a-4f25-9bbf-c99417ce27fc",
   "metadata": {
    "language": "sql",
    "name": "SetupPyPiEAI",
    "vscode": {
     "languageId": "sql"
    }
   },
   "outputs": [],
   "source": [
    "-- Create Network Rule and External Access Integration for PyPI\n",
    "-- Run this cell to enable installing Python packages from PyPI\n",
    "\n",
    "CREATE OR REPLACE NETWORK RULE pypi_network_rule\n",
    "  MODE = EGRESS\n",
    "  TYPE = HOST_PORT\n",
    "  VALUE_LIST = ('pypi.org', 'pypi.python.org', 'pythonhosted.org', 'files.pythonhosted.org');\n",
    "\n",
    "CREATE OR REPLACE EXTERNAL ACCESS INTEGRATION pypi_access_integration\n",
    "  ALLOWED_NETWORK_RULES = (pypi_network_rule)\n",
    "  ENABLED = true\n",
    "  COMMENT = 'External Access Integration for PyPI package installation';\n",
    "\n",
    "-- Grant usage on the integration\n",
    "GRANT USAGE ON INTEGRATION pypi_access_integration TO ROLE ACCOUNTADMIN;\n",
    "\n",
    "SHOW EXTERNAL ACCESS INTEGRATIONS LIKE 'pypi_access_integration';\n"
   ]
  },
  {
   "cell_type": "code",
   "execution_count": null,
   "id": "2df568c3-14c1-4fbe-a959-4600fed4f82d",
   "metadata": {
    "language": "sql",
    "name": "AddPyPiToNotebook",
    "vscode": {
     "languageId": "sql"
    }
   },
   "outputs": [],
   "source": [
    "-- Apply PyPI integration to this notebook\n",
    "-- Run this after creating the PyPI integration above\n",
    "\n",
    "ALTER NOTEBOOK EAI_SFTP\n",
    "  SET EXTERNAL_ACCESS_INTEGRATIONS = ('pypi_access_integration');\n"
   ]
  },
  {
   "cell_type": "markdown",
   "id": "c210a2da-a206-4364-b42d-f789e29e7d9d",
   "metadata": {
    "name": "RestartWarning"
   },
   "source": [
    "**NOTE: You will need to restart the Notebook session after applying an EAI**"
   ]
  },
  {
   "cell_type": "code",
   "execution_count": null,
   "id": "e0d195a8-3a51-49bf-b6f9-463e1cb9de2e",
   "metadata": {
    "language": "python",
    "name": "InstallPsycopg"
   },
   "outputs": [],
   "source": [
    "# Install paramiko\n",
    "# Make sure PyPI access is configured first if you get connection errors\n",
    "# You can run this cell twice; the first to install the driver, the second to confirm it is imported\n",
    "\n",
    "try:\n",
    "    import paramiko\n",
    "    print(\"✅ paramiko already available\")\n",
    "except ImportError:\n",
    "    print(\"📦 Installing paramiko...\")\n",
    "    %pip install paramiko\n",
    "    print(\"✅ paramiko installed\")"
   ]
  },
  {
   "cell_type": "markdown",
   "id": "1ac92f00-79bf-42fe-9b5c-baa0b738029f",
   "metadata": {
    "name": "ConTestInstructions"
   },
   "source": [
    "## 2. Connectivity Tests\n",
    "\n",
    "These cells test connectivity to your SFTP host. Run them in order to diagnose any connection issues.\n",
    "\n",
    "**Note: If you need to install paramiko, make sure to run the PyPI setup section first and restart your session.**\n"
   ]
  },
  {
   "cell_type": "code",
   "execution_count": null,
   "id": "e16c0328-ba0e-4e6f-9044-e9e026349c27",
   "metadata": {
    "language": "python",
    "name": "ConTest"
   },
   "outputs": [],
   "source": [
    "# Network Connectivity Test\n",
    "# Tests basic network connectivity to SFTP host and port\n",
    "\n",
    "import socket\n",
    "\n",
    "def test_network_connectivity(host, port, description):\n",
    "    \"\"\"Test network connectivity to SFTP host and port\"\"\"\n",
    "    try:\n",
    "        print(f\"🔍 Testing {description}: {host}:{port}\")\n",
    "\n",
    "        # Test network connectivity\n",
    "        sock = socket.socket(socket.AF_INET, socket.SOCK_STREAM)\n",
    "        sock.settimeout(10)\n",
    "        result = sock.connect_ex((host, port))\n",
    "        sock.close()\n",
    "\n",
    "        if result == 0:\n",
    "            print(f\"  ✅ Network connection successful\")\n",
    "            return True\n",
    "        else:\n",
    "            print(f\"  ❌ Network connection failed (error code: {result})\")\n",
    "            print(f\"  💡 This may indicate the need for a SFTP EAI\")\n",
    "            return False\n",
    "\n",
    "    except Exception as e:\n",
    "        print(f\"  ❌ Network Error: {e}\")\n",
    "        return False\n",
    "\n",
    "# Run network connectivity test\n",
    "print(\"=\" * 50)\n",
    "print(\"NETWORK CONNECTIVITY TEST\")\n",
    "print(\"=\" * 50)\n",
    "\n",
    "network_result = test_network_connectivity(SFTP_HOST, SFTP_PORT, \"SFTP Network Connectivity\")\n",
    "\n",
    "if network_result:\n",
    "    print(f\"\\n✅ Network connectivity PASSED - SFTP host is reachable\")\n",
    "    print(\"You can proceed to test SFTP authentication.\")\n",
    "else:\n",
    "    print(f\"\\n❌ Network connectivity FAILED\")\n",
    "    print(\"You need to configure a SFTP External Access Integration (EAI).\")\n",
    "    print(\"See the SFTP EAI Setup section below.\")"
   ]
  },
  {
   "cell_type": "code",
   "execution_count": null,
   "id": "bf604a37-4c12-4366-9bd9-ad446eb42021",
   "metadata": {
    "language": "python",
    "name": "authTest"
   },
   "outputs": [],
   "source": [
    "def test_sftp_connection_to_server(host, port, username, password):\n",
    "    \"\"\"Test SFTP connection to a specific server with detailed debugging.\"\"\"\n",
    "    print(f\"\\n{'='*60}\")\n",
    "    print(f\"Host: {host}:{port}\")\n",
    "    print(f\"Username: {username}\")\n",
    "    print(f\"{'='*60}\")\n",
    "    \n",
    "    try:\n",
    "        # Enable paramiko debug logging (comment out for cleaner output)\n",
    "        # logging.basicConfig(level=logging.DEBUG)\n",
    "        # paramiko.util.log_to_file('paramiko_debug.log')\n",
    "        \n",
    "        print(f\"Attempting to connect to {host}...\")\n",
    "        \n",
    "        # Create SSH client\n",
    "        ssh_client = paramiko.SSHClient()\n",
    "        ssh_client.set_missing_host_key_policy(paramiko.AutoAddPolicy())\n",
    "        \n",
    "        # Connect to SSH server with detailed error handling\n",
    "        print(\"Creating SSH connection...\")\n",
    "        ssh_client.connect(hostname=host,\n",
    "                          port=port,\n",
    "                          username=username,\n",
    "                          password=password,\n",
    "                          timeout=30,\n",
    "                          look_for_keys=False,\n",
    "                          allow_agent=False)\n",
    "        \n",
    "        print(\"✓ SSH connection and authentication successful.\")\n",
    "        \n",
    "        # Create SFTP client from SSH connection\n",
    "        print(\"Opening SFTP session...\")\n",
    "        sftp_client = ssh_client.open_sftp()\n",
    "        \n",
    "        try:\n",
    "            # --- Connectivity Test: Directory Listing ---\n",
    "            print(\"Performing directory listing...\")\n",
    "            remote_file_list = sftp_client.listdir()\n",
    "            \n",
    "            print(\"✓ Directory listing successful. Contents:\")\n",
    "            if not remote_file_list:\n",
    "                print(\"  (Directory is empty)\")\n",
    "            else:\n",
    "                for item in remote_file_list:\n",
    "                    print(f\"  - {item}\")\n",
    "            \n",
    "            print(f\"\\n✓ SUCCESS: {host} connectivity test passed.\")\n",
    "            return True\n",
    "            \n",
    "        finally:\n",
    "            # Close SFTP and SSH connections\n",
    "            sftp_client.close()\n",
    "            ssh_client.close()\n",
    "            print(\"✓ Connections closed.\")\n",
    "\n",
    "    except paramiko.AuthenticationException as e:\n",
    "        print(f\"✗ FAILURE: Authentication failed for {host}\")\n",
    "        print(f\"  Error Details: {e}\")\n",
    "        return False\n",
    "    except paramiko.SSHException as e:\n",
    "        print(f\"✗ FAILURE: SSH connection error for {host}\")\n",
    "        print(f\"  Error Details: {e}\")\n",
    "        return False\n",
    "    except socket.error as e:\n",
    "        print(f\"✗ FAILURE: Could not establish connection to {host}\")\n",
    "        print(f\"  Error Details: {e}\")\n",
    "        return False\n",
    "    except Exception as e:\n",
    "        print(f\"✗ FAILURE: Unexpected error for {host}\")\n",
    "        print(f\"  Error Type: {type(e).__name__}\")\n",
    "        print(f\"  Error Details: {e}\")\n",
    "        return False\n",
    "\n",
    "\n",
    "# --- Host Key Handling ---\n",
    "# WARNING: Disabling host key checking is insecure and vulnerable to\n",
    "# Man-in-the-Middle (MITM) attacks. This should ONLY be used for initial\n",
    "# connectivity testing in a non-production environment.\n",
    "# See Section 5 for production-safe host key verification methods.\n",
    "print(\"WARNING: Host key verification is disabled. This is NOT secure for production.\")\n",
    "\n",
    "# Test primary server first\n",
    "success = test_sftp_connection_to_server(\n",
    "    SFTP_HOST, SFTP_PORT, SFTP_USER, SFTP_PASS\n",
    ")\n",
    "\n",
    "# If primary server fails, try alternative server         \n",
    "if success:\n",
    "    print(f\"\\n{'='*60}\")\n",
    "    print(\"✓ SFTP connectivity test completed successfully!\")\n",
    "    print(\"=\"*60)\n",
    "else:\n",
    "    print(f\"\\n{'='*60}\")\n",
    "    print(\"✗ SFTP connectivity tests failed.\")\n",
    "    print(\"Check the debug log file 'paramiko_debug.log' for detailed information.\")\n",
    "    print(\"=\"*60)\n"
   ]
  },
  {
   "cell_type": "markdown",
   "id": "418fd162-a013-444f-a648-70cce5951cea",
   "metadata": {
    "collapsed": false,
    "name": "PostgresEAISetup"
   },
   "source": [
    "## 3. SFTP EAI Setup (Optional)\n",
    "\n",
    "Run these cells if connectivity tests failed. This creates the necessary network rules and External Access Integration specifically for SFTP access.\n",
    "\n",
    "**Skip this section if your connectivity tests passed.**"
   ]
  },
  {
   "cell_type": "code",
   "execution_count": null,
   "id": "76341d80-6a6e-4318-9047-0258b75c9722",
   "metadata": {
    "language": "sql",
    "name": "createOrReplaceRules",
    "vscode": {
     "languageId": "sql"
    }
   },
   "outputs": [],
   "source": [
    "-- Create Network Rule for SFTP connectivity\n",
    "-- This allows egress traffic to your specific FTP host and port\n",
    "\n",
    "-- Network rule for your SFTP database server\n",
    "-- Uses the variables set in the configuration cell above\n",
    "CREATE OR REPLACE NETWORK RULE SFTP_RULE\n",
    "  MODE = EGRESS\n",
    "  TYPE = HOST_PORT\n",
    "  VALUE_LIST = ('{{SFTP_HOST}}:{{SFTP_PORT}}');\n",
    "\n",
    "-- Show the created network rule\n",
    "DESCRIBE NETWORK RULE SFTP_RULE;"
   ]
  },
  {
   "cell_type": "code",
   "execution_count": null,
   "id": "a738f844-c49c-4594-ab85-c7e8a2dcddcf",
   "metadata": {
    "language": "sql",
    "name": "createOrReplaceEAI",
    "vscode": {
     "languageId": "sql"
    }
   },
   "outputs": [],
   "source": [
    "-- Create External Access Integration for SFTP\n",
    "-- This combines all the network rules into a single integration\n",
    "\n",
    "CREATE OR REPLACE EXTERNAL ACCESS INTEGRATION SFTP_EAI\n",
    "  ALLOWED_NETWORK_RULES = (\n",
    "    SFTP_RULE\n",
    "  )\n",
    "  ENABLED = TRUE\n",
    "  COMMENT = 'External Access Integration for SFTP connectivity';\n",
    "\n",
    "-- Grant usage on the integration to your role\n",
    "GRANT USAGE ON INTEGRATION SFTP_EAI TO ROLE ACCOUNTADMIN;\n",
    "\n",
    "SHOW EXTERNAL ACCESS INTEGRATIONS LIKE 'SFTP_EAI';"
   ]
  },
  {
   "cell_type": "code",
   "execution_count": null,
   "id": "3b64620c-a086-44ad-99d7-4d9c48fdd22f",
   "metadata": {
    "language": "sql",
    "name": "applyEAI",
    "vscode": {
     "languageId": "sql"
    }
   },
   "outputs": [],
   "source": [
    "-- Apply SFTP EAI to this notebook\n",
    "-- This enables the notebook to access your SFTP Server\n",
    "-- Include pypi_access_integration if you created it earlier\n",
    "\n",
    "ALTER NOTEBOOK EAI_SFTP\n",
    "  SET EXTERNAL_ACCESS_INTEGRATIONS = ('SFTP_EAI', 'pypi_access_integration');\n",
    "\n",
    "-- Alternative: If you only need SFTP access (no PyPI), use:\n",
    "-- ALTER NOTEBOOK SFTP\n",
    "--   SET EXTERNAL_ACCESS_INTEGRATIONS = ('SFTP_EAI');"
   ]
  }
 ],
 "metadata": {
  "kernelspec": {
   "display_name": "pysnowpark",
   "language": "python",
   "name": "python3"
  },
  "language_info": {
   "name": "python",
   "version": "3.12.9"
  },
  "lastEditStatus": {
   "authorEmail": "timothee.vandeput@snowflake.com",
   "authorId": "7630507050104",
   "authorName": "TVANDEPUT",
   "lastEditTime": 1759339109802,
   "notebookId": "o7irni3sy3lby4knrfs6",
   "sessionId": "9cd178be-d026-4176-919d-9660cf21045f"
  }
 },
 "nbformat": 4,
 "nbformat_minor": 5
}
