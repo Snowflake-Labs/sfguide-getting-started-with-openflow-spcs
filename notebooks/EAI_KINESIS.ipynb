{
  "cells": [
    {
      "cell_type": "markdown",
      "metadata": {},
      "source": [
        "# SPCS Networking Connectivity Test: AWS Kinesis\n",
        "\n",
        "**Note: This Notebook should be run in an SPCS Container for testing to be valid**\n",
        "\n",
        "1. Please provide your AWS Region\n",
        "2. Check that the Network Rule structure matches your requirements\n",
        "3. Run the Connectivity Test if your EAI is already configured\n",
        "4. Use the Cells to prepare the EAI if needed, then rerun the test.\n"
      ]
    },
    {
      "cell_type": "code",
      "execution_count": null,
      "metadata": {},
      "outputs": [],
      "source": [
        "# AWS Kinesis Connectivity Test Configuration\n",
        "# Update the AWS_REGION with your actual AWS region\n",
        "\n",
        "# User Configuration\n",
        "AWS_REGION = \"us-west-2\"  # Replace with your AWS region (e.g., us-east-1, eu-west-1, etc.)\n",
        "\n",
        "# This role will be used to create the EAI and other objects if necessary\n",
        "IMPLEMENTATION_ROLE = \"ACCOUNTADMIN\"\n",
        "\n",
        "\n",
        "OPENFLOW_RUNTIME_ROLE = \"OPENFLOWRUNTIMEROLE\"\n",
        "\n",
        "# Determine if FIPS endpoints are available (US regions only)\n",
        "IS_US_REGION = AWS_REGION.startswith('us-')\n",
        "\n",
        "# Construct AWS service endpoints based on region\n",
        "KINESIS_ENDPOINT = f\"https://kinesis.{AWS_REGION}.amazonaws.com\"\n",
        "KINESIS_API_ENDPOINT = f\"https://kinesis.{AWS_REGION}.api.aws\"\n",
        "DYNAMODB_ENDPOINT = f\"https://dynamodb.{AWS_REGION}.amazonaws.com\"\n",
        "CLOUDWATCH_ENDPOINT = f\"https://monitoring.{AWS_REGION}.amazonaws.com\"\n",
        "\n",
        "print(f\"Configuration:\")\n",
        "print(f\"AWS Region: {AWS_REGION}\")\n",
        "print(f\"FIPS Endpoints: {'Enabled' if IS_US_REGION else 'Disabled (non-US region)'}\")\n",
        "print(f\"Kinesis Endpoint: {KINESIS_ENDPOINT}\")\n",
        "print(f\"DynamoDB Endpoint: {DYNAMODB_ENDPOINT}\")\n",
        "print(f\"CloudWatch Endpoint: {CLOUDWATCH_ENDPOINT}\")\n",
        "print(\"\\nReady to test connectivity...\")\n"
      ]
    },
    {
      "cell_type": "markdown",
      "metadata": {},
      "source": [
        "## Error examples\n",
        "\n",
        "This is the kind of error you will get in Openflow if your EAI is not setup correctly\n",
        "\n",
        "```\n",
        "16:22:16 GMT\n",
        "ERROR\n",
        "a5b9654b-0199-1000-0000-000072809dc0\n",
        "All Nodes\n",
        "PutKinesisStream[id=a5b9654b-0199-1000-0000-000072809dc0] Failed to publish due to exception Received an UnknownHostException when attempting to interact with a service. See cause for the exact endpoint that is failing to resolve. If this is happening on an endpoint that previously worked, there may be a network connectivity issue or your DNS cache could be storing endpoints for too long. flowfiles [StandardFlowFileRecord[uuid=eb6fd670-8b6d-464d-8a41-6760af02814d,claim=StandardContentClaim [resourceClaim=StandardResourceClaim[id=1759338026442-113, container=repo1, section=113], offset=663980, length=2565],offset=0,name=eb6fd670-8b6d-464d-8a41-6760af02814d,size=2565]] \n",
        "```"
      ]
    },
    {
      "cell_type": "markdown",
      "metadata": {},
      "source": [
        "## Connectivity Test\n",
        "\n",
        "Run this test cell to check if you have Network Connectivity to Kinesis.  \n",
        "If it fails, use the following cells to create and attach the EAI to this Notebook, restart the Notebook session and then test again."
      ]
    },
    {
      "cell_type": "code",
      "execution_count": null,
      "metadata": {},
      "outputs": [],
      "source": [
        "import requests\n",
        "from urllib.parse import urlparse\n",
        "\n",
        "def test_connectivity(url, description):\n",
        "    \"\"\"Test HTTP connectivity to a given URL\"\"\"\n",
        "    try:\n",
        "        print(f\"\\nTesting {description}: {url}\")\n",
        "\n",
        "        # Simple HTTP test - let EAI handle the routing\n",
        "        response = requests.get(url, timeout=10, allow_redirects=True)\n",
        "        print(f\"  HTTP Response: {response.status_code}\")\n",
        "\n",
        "        # Any response means connectivity is working\n",
        "        return True\n",
        "\n",
        "    except requests.exceptions.ConnectionError as e:\n",
        "        print(f\"  Connection Error: {e}\")\n",
        "        return False\n",
        "    except requests.exceptions.Timeout as e:\n",
        "        print(f\"  Timeout Error: {e}\")\n",
        "        return False\n",
        "    except Exception as e:\n",
        "        print(f\"  Error: {e}\")\n",
        "        return False\n",
        "\n",
        "# Run connectivity tests\n",
        "print(\"=\" * 60)\n",
        "print(\"AWS KINESIS CONNECTIVITY TEST\")\n",
        "print(\"=\" * 60)\n",
        "\n",
        "results = {}\n",
        "results['kinesis'] = test_connectivity(KINESIS_ENDPOINT, \"Kinesis Service\")\n",
        "results['kinesis_api'] = test_connectivity(KINESIS_API_ENDPOINT, \"Kinesis API\")\n",
        "results['dynamodb'] = test_connectivity(DYNAMODB_ENDPOINT, \"DynamoDB Service\")\n",
        "results['cloudwatch'] = test_connectivity(CLOUDWATCH_ENDPOINT, \"CloudWatch Monitoring\")\n",
        "\n",
        "print(\"\\n\" + \"=\" * 60)\n",
        "print(\"CONNECTIVITY TEST SUMMARY\")\n",
        "print(\"=\" * 60)\n",
        "\n",
        "all_passed = True\n",
        "for service, passed in results.items():\n",
        "    status = \"PASS\" if passed else \"FAIL\"\n",
        "    print(f\"{service.upper()}: {status}\")\n",
        "    if not passed:\n",
        "        all_passed = False\n",
        "\n",
        "if all_passed:\n",
        "    print(f\"\\nAll connectivity tests PASSED!\")\n",
        "    print(\"Your SPCS environment can reach all required AWS Kinesis endpoints.\")\n",
        "    print(\"You can proceed with Kinesis integration.\")\n",
        "else:\n",
        "    print(f\"\\nSome connectivity tests FAILED!\")\n",
        "    print(\"You need to configure Snowflake External Access Integration (EAI).\")\n",
        "    print(\"Please run the EAI setup cells below to resolve connectivity issues.\")\n"
      ]
    },
    {
      "cell_type": "markdown",
      "metadata": {},
      "source": [
        "If Connectivity testing fails, you can use the Cells below to prepare and implement an EAI suitable for AWS Kinesis access.\n"
      ]
    },
    {
      "cell_type": "code",
      "execution_count": null,
      "metadata": {
        "vscode": {
          "languageId": "sql"
        }
      },
      "outputs": [],
      "source": [
        "-- Create Network Rule for AWS Kinesis connectivity\n",
        "-- Run this cell if connectivity tests failed\n",
        "-- Uses the AWS_REGION variable defined in the configuration cell above\n",
        "\n",
        "USE ROLE {{IMPLEMENTATION_ROLE}};\n",
        "\n",
        "CREATE OR REPLACE NETWORK RULE kinesis_access_rule\n",
        "  MODE = EGRESS\n",
        "  TYPE = HOST_PORT\n",
        "  VALUE_LIST = (\n",
        "    -- Standard endpoints (all regions)\n",
        "    'kinesis.{{ AWS_REGION }}.amazonaws.com:443',\n",
        "    'kinesis.{{ AWS_REGION }}.api.aws:443',\n",
        "    '*.control-kinesis.{{ AWS_REGION }}.amazonaws.com:443',\n",
        "    '*.control-kinesis.{{ AWS_REGION }}.api.aws:443',\n",
        "    '*.data-kinesis.{{ AWS_REGION }}.amazonaws.com:443',\n",
        "    '*.data-kinesis.{{ AWS_REGION }}.api.aws:443',\n",
        "    'dynamodb.{{ AWS_REGION }}.amazonaws.com:443',\n",
        "    'monitoring.{{ AWS_REGION }}.amazonaws.com:80',\n",
        "    'monitoring.{{ AWS_REGION }}.amazonaws.com:443',\n",
        "    'monitoring.{{ AWS_REGION }}.api.aws:80',\n",
        "    'monitoring.{{ AWS_REGION }}.api.aws:443'{% if IS_US_REGION %},\n",
        "    -- FIPS endpoints (US regions only)\n",
        "    'kinesis-fips.{{ AWS_REGION }}.api.aws:443',\n",
        "    'kinesis-fips.{{ AWS_REGION }}.amazonaws.com:443',\n",
        "    'monitoring-fips.{{ AWS_REGION }}.amazonaws.com:80',\n",
        "    'monitoring-fips.{{ AWS_REGION }}.amazonaws.com:443'{% endif %}\n",
        "  );\n",
        "\n",
        "SHOW NETWORK RULES LIKE 'kinesis_%';\n"
      ]
    },
    {
      "cell_type": "code",
      "execution_count": null,
      "metadata": {
        "vscode": {
          "languageId": "sql"
        }
      },
      "outputs": [],
      "source": [
        "-- Create External Access Integration for AWS Kinesis\n",
        "-- This uses the network rule created above\n",
        "\n",
        "CREATE OR REPLACE EXTERNAL ACCESS INTEGRATION kinesis_eai\n",
        "  ALLOWED_NETWORK_RULES = (kinesis_access_rule)\n",
        "  ENABLED = TRUE\n",
        "  COMMENT = 'External Access Integration for AWS Kinesis connectivity';\n",
        "\n",
        "-- Grant usage on the integration to your roles\n",
        "GRANT USAGE ON INTEGRATION kinesis_eai TO ROLE {{IMPLEMENTATION_ROLE}};\n",
        "GRANT USAGE ON INTEGRATION kinesis_eai TO ROLE {{OPENFLOW_RUNTIME_ROLE}};\n",
        "\n",
        "SHOW EXTERNAL ACCESS INTEGRATIONS LIKE 'kinesis_eai';\n"
      ]
    },
    {
      "cell_type": "code",
      "execution_count": null,
      "metadata": {
        "vscode": {
          "languageId": "sql"
        }
      },
      "outputs": [],
      "source": [
        "ALTER NOTEBOOK EAI_KINESIS\n",
        "  SET EXTERNAL_ACCESS_INTEGRATIONS = ('KINESIS_EAI');\n"
      ]
    },
    {
      "cell_type": "markdown",
      "metadata": {},
      "source": [
        "After Creating and Setting the EAI on the Notebook, restart your Notebook session and run the Connectivity test again.\n"
      ]
    }
  ],
  "metadata": {
    "language_info": {
      "name": "python"
    }
  },
  "nbformat": 4,
  "nbformat_minor": 2
}
