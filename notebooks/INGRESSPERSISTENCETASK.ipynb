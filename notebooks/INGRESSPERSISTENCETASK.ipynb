{
 "metadata": {
  "kernelspec": {
   "display_name": "pysnowpark",
   "language": "python",
   "name": "python3"
  },
  "language_info": {
   "codemirror_mode": {
    "name": "ipython",
    "version": 3
   },
   "file_extension": ".py",
   "mimetype": "text/x-python",
   "name": "python",
   "nbconvert_exporter": "python",
   "pygments_lexer": "ipython3",
   "version": "3.12.9"
  },
  "lastEditStatus": {
   "notebookId": "cd6gckw3tnspy3lsssif",
   "authorId": "75544643758",
   "authorName": "DCHAFFELSON",
   "authorEmail": "dan.chaffelson@snowflake.com",
   "sessionId": "19bdd049-b6c3-469a-928c-d37247da316e",
   "lastEditTime": 1759224584859
  }
 },
 "nbformat_minor": 2,
 "nbformat": 4,
 "cells": [
  {
   "cell_type": "markdown",
   "id": "ce110000-1111-2222-3333-ffffff000000",
   "metadata": {
    "collapsed": false,
    "name": "intro"
   },
   "source": [
    "# Network Rule Persistence Workaround\n",
    "\n",
    "This notebook helps you set up a workaround to ensure that your network ingress rules persist even when they are cleared by administrative tasks.\n",
    "\n",
    "## Problem\n",
    "- Administrative task `PARENT_PROC_TASK` in `SECURITY_NETWORK_DB.POLICIES` periodically clears network rules\n",
    "- This is designed to prevent internal staff forgetting to clear up their rules after a demo or working session\n",
    "- However this breaks connectivity for applications that depend on specific ingress rules, like Openflow\n",
    "- We need to automatically restore our required network rules immediately after they are cleared so Demos are not interrupted\n",
    "\n",
    "## Solution\n",
    "- Create a network rule for our required ingress\n",
    "- Create a procedure that checks and restores the network rule\n",
    "- Create a task that runs immediately after the administrative task\n",
    "\n",
    "## Prerequisites\n",
    "- `CREATE NETWORK RULE` privilege\n",
    "- `CREATE PROCEDURE` privilege\n",
    "- `CREATE TASK` privilege\n",
    "- Access to modify network policies\n",
    "- Or just ACCOUNTADMIN\n"
   ]
  },
  {
   "cell_type": "code",
   "execution_count": 1,
   "id": "ce110000-1111-2222-3333-ffffff000001",
   "metadata": {
    "language": "python",
    "name": "configParams"
   },
   "outputs": [
    {
     "name": "stdout",
     "output_type": "stream",
     "text": [
      "✓ Configuration variables set successfully!\n",
      "Network Rule: allow_openflow_deployment_ingress\n",
      "IP Addresses: ('10.16.0.0/12', '3.10.2.57/32')\n",
      "Warehouse: COMPUTE_WH\n",
      "Network Policy: ACCOUNT_VPN_POLICY_SE\n",
      "Admin Task: SECURITY_NETWORK_DB.POLICIES.PARENT_PROC_TASK\n"
     ]
    }
   ],
   "source": [
    "# Configuration - Update these values for your environment\n",
    "# ==========================================================\n",
    "\n",
    "# Context where objects are created\n",
    "DATABASE = \"OPENFLOW\";\n",
    "SCHEMA = \"OPENFLOW\";\n",
    "\n",
    "# Network Rule Configuration\n",
    "NETWORK_RULE_NAME = \"allow_openflow_deployment_ingress\"\n",
    "IP_ADDRESS_LIST = \"('10.16.0.0/12')\"  # Update with your IP addresses\n",
    "NETWORK_RULE_COMMENT = \"Allow ingress from Openflow deployment server - auto-restored by NETWORK_RULE_RESTORATION_TASK\"\n",
    "\n",
    "# Task Configuration\n",
    "WAREHOUSE_NAME = \"COMPUTE_WH\"  # Update to your warehouse name\n",
    "TASK_NAME = \"NETWORK_RULE_RESTORATION_TASK\"\n",
    "PROCEDURE_NAME = \"CHECK_AND_SET_NETWORK_RULE_LIST\"\n",
    "\n",
    "# Network Policy Configuration\n",
    "NETWORK_POLICY_NAME = \"ACCOUNT_VPN_POLICY_SE\"  # Update to your network policy name\n",
    "\n",
    "# Administrative Task Configuration\n",
    "ADMIN_TASK_PATH = \"SECURITY_NETWORK_DB.POLICIES.PARENT_PROC_TASK\"  # Update to your admin task path\n",
    "\n",
    "print(\"✓ Configuration variables set successfully!\")\n",
    "print(f\"Network Rule: {NETWORK_RULE_NAME}\")\n",
    "print(f\"IP Addresses: {IP_ADDRESS_LIST}\")\n",
    "print(f\"Warehouse: {WAREHOUSE_NAME}\")\n",
    "print(f\"Network Policy: {NETWORK_POLICY_NAME}\")\n",
    "print(f\"Admin Task: {ADMIN_TASK_PATH}\")\n"
   ]
  },
  {
   "cell_type": "markdown",
   "id": "ce110000-1111-2222-3333-ffffff000002",
   "metadata": {
    "name": "step0setContext"
   },
   "source": [
    "## Step 0: Set Context"
   ]
  },
  {
   "cell_type": "code",
   "execution_count": 2,
   "id": "ce110000-1111-2222-3333-ffffff000003",
   "metadata": {
    "language": "sql",
    "name": "setContext",
    "vscode": {
     "languageId": "sql"
    }
   },
   "outputs": [
    {
     "ename": "SyntaxError",
     "evalue": "invalid syntax (3329054906.py, line 1)",
     "output_type": "error",
     "traceback": [
      "  \u001b[36mCell\u001b[39m\u001b[36m \u001b[39m\u001b[32mIn[2]\u001b[39m\u001b[32m, line 1\u001b[39m\n\u001b[31m    \u001b[39m\u001b[31mUSE DATABASE {{DATABASE}};\u001b[39m\n        ^\n\u001b[31mSyntaxError\u001b[39m\u001b[31m:\u001b[39m invalid syntax\n"
     ]
    }
   ],
   "source": [
    "USE DATABASE {{DATABASE}};\n",
    "USE SCHEMA {{SCHEMA}};"
   ]
  },
  {
   "cell_type": "markdown",
   "id": "ce110000-1111-2222-3333-ffffff000004",
   "metadata": {
    "name": "step1RuleSetup"
   },
   "source": [
    "## Step 1: Create the Network Rule\n",
    "\n",
    "Create the network rule using the configuration variables defined above.\n"
   ]
  },
  {
   "cell_type": "code",
   "execution_count": null,
   "id": "ce110000-1111-2222-3333-ffffff000005",
   "metadata": {
    "language": "sql",
    "name": "createNetworkRule",
    "vscode": {
     "languageId": "sql"
    }
   },
   "outputs": [],
   "source": [
    "-- Create network rule for Openflow deployment ingress\n",
    "CREATE OR REPLACE NETWORK RULE {{NETWORK_RULE_NAME}}\n",
    "  MODE = INGRESS\n",
    "  TYPE = IPV4\n",
    "  VALUE_LIST = {{IP_ADDRESS_LIST}}\n",
    "  COMMENT = '{{NETWORK_RULE_COMMENT}}';\n"
   ]
  },
  {
   "cell_type": "code",
   "execution_count": null,
   "id": "ce110000-1111-2222-3333-ffffff000006",
   "metadata": {
    "language": "sql",
    "name": "verifyNetworkRule",
    "vscode": {
     "languageId": "sql"
    }
   },
   "outputs": [],
   "source": [
    "-- Verify the network rule was created\n",
    "DESCRIBE NETWORK RULE {{NETWORK_RULE_NAME}};"
   ]
  },
  {
   "cell_type": "markdown",
   "id": "ab181a95-3449-4032-a326-66a7924bae0e",
   "metadata": {
    "name": "step1_1_DescribePolicy",
    "collapsed": false
   },
   "source": "### Step 1.1 Check your Network Policy\nDescribe your Network Policy, and see if you already have rules set"
  },
  {
   "cell_type": "code",
   "id": "20822a9c-5e2d-4cdf-97a6-9a74b7dd7191",
   "metadata": {
    "language": "sql",
    "name": "describePolicy"
   },
   "outputs": [],
   "source": "DESCRIBE NETWORK POLICY {{NETWORK_POLICY_NAME}};",
   "execution_count": null
  },
  {
   "cell_type": "markdown",
   "id": "ce110000-1111-2222-3333-ffffff000007",
   "metadata": {
    "collapsed": false,
    "name": "step1_2"
   },
   "source": "### Step 1.2 Set the Rule\nIf you have previously used a rule with different IPs, and want to set a new rule now, run this cell"
  },
  {
   "cell_type": "code",
   "execution_count": null,
   "id": "ce110000-1111-2222-3333-ffffff000008",
   "metadata": {
    "language": "sql",
    "name": "applyTheRule",
    "vscode": {
     "languageId": "sql"
    }
   },
   "outputs": [],
   "source": "ALTER NETWORK POLICY {{NETWORK_POLICY_NAME}} ADD ALLOWED_NETWORK_RULE_LIST = ({{NETWORK_RULE_NAME}});"
  },
  {
   "cell_type": "markdown",
   "id": "ce110000-1111-2222-3333-ffffff000009",
   "metadata": {
    "name": "step2ProcSetup"
   },
   "source": [
    "## Step 2: Create the Network Rule Restoration Procedure\n",
    "\n",
    "This procedure checks if the network rule is present in the network policy and restores it if missing.\n"
   ]
  },
  {
   "cell_type": "code",
   "execution_count": null,
   "id": "ce110000-1111-2222-3333-ffffff000010",
   "metadata": {
    "language": "sql",
    "name": "ruleRestoProc",
    "vscode": {
     "languageId": "sql"
    }
   },
   "outputs": [],
   "source": "CREATE OR REPLACE PROCEDURE {{PROCEDURE_NAME}}()\nRETURNS VARCHAR\nLANGUAGE SQL\nEXECUTE AS CALLER\nAS '\nDECLARE\n    rule_list_count INTEGER DEFAULT 0;\nBEGIN\n    -- Describe the network policy to get current settings\n    DESCRIBE NETWORK POLICY {{NETWORK_POLICY_NAME}};\n\n    -- Check if ALLOWED_NETWORK_RULE_LIST is present\n    SELECT COUNT(*)\n    INTO :rule_list_count\n    FROM TABLE(RESULT_SCAN(LAST_QUERY_ID()))\n    WHERE \"name\" = ''ALLOWED_NETWORK_RULE_LIST''\n    AND \"value\" IS NOT NULL\n    AND \"value\" != '''';\n\n    -- If ALLOWED_NETWORK_RULE_LIST is not set, add it\n    IF (:rule_list_count = 0) THEN\n        ALTER NETWORK POLICY {{NETWORK_POLICY_NAME}}\n        ADD ALLOWED_NETWORK_RULE_LIST = ({{NETWORK_RULE_NAME}});\n\n        RETURN ''({{NETWORK_RULE_NAME}}) has been added to ALLOWED_NETWORK_RULE_LIST'';\n    ELSE\n        RETURN ''ALLOWED_NETWORK_RULE_LIST is already configured'';\n    END IF;\nEND;\n';"
  },
  {
   "cell_type": "code",
   "execution_count": null,
   "id": "8ad61c9c-e077-4903-b115-9f4c5466a7b6",
   "metadata": {
    "language": "sql",
    "name": "testProc",
    "vscode": {
     "languageId": "sql"
    }
   },
   "outputs": [],
   "source": [
    "-- Test the procedure\n",
    "CALL {{PROCEDURE_NAME}}();"
   ]
  },
  {
   "cell_type": "markdown",
   "id": "ce110000-1111-2222-3333-ffffff000011",
   "metadata": {
    "collapsed": false,
    "name": "step3TaskSetup"
   },
   "source": [
    "## Step 3: Create the Network Rule Restoration Task\n",
    "\n",
    "Since the parent task runs every 12 hours (at midnight and noon UTC), we'll schedule our task to run 2 minutes after those times. This ensures we restore the network rules shortly after they're cleared, while keeping our task in the OPENFLOW.PUBLIC schema.\n"
   ]
  },
  {
   "cell_type": "code",
   "execution_count": null,
   "id": "6b0bf32b-b57e-483e-beaf-43cff6998bf4",
   "metadata": {
    "language": "sql",
    "name": "inspectSchedule",
    "vscode": {
     "languageId": "sql"
    }
   },
   "outputs": [],
   "source": [
    "-- Inspect the parent task to see its current schedule\n",
    "-- This helps verify when it runs so we can schedule our task appropriately\n",
    "DESCRIBE TASK {{ADMIN_TASK_PATH}};\n",
    "\n",
    "-- Get the Cron schedule\n",
    "SELECT \"schedule\"\n",
    "FROM TABLE(RESULT_SCAN(LAST_QUERY_ID()));"
   ]
  },
  {
   "cell_type": "code",
   "execution_count": null,
   "id": "ce110000-1111-2222-3333-ffffff000012",
   "metadata": {
    "language": "sql",
    "name": "createTask",
    "vscode": {
     "languageId": "sql"
    }
   },
   "outputs": [],
   "source": [
    "-- Create task that runs 2 minutes after the parent task (probably every 12 hours at 00:02 and 12:02 UTC)\n",
    "CREATE OR REPLACE TASK {{TASK_NAME}}\n",
    "    WAREHOUSE = {{WAREHOUSE_NAME}}\n",
    "    SCHEDULE = 'USING CRON 2 */12 * * * UTC'\n",
    "    COMMENT = 'Restore ALLOWED_NETWORK_RULE_LIST 2 minutes after admin task clears rules (every 12 hours)'\n",
    "    AS CALL {{PROCEDURE_NAME}}();"
   ]
  },
  {
   "cell_type": "markdown",
   "id": "ce110000-1111-2222-3333-ffffff000013",
   "metadata": {
    "name": "step4TaskStart"
   },
   "source": [
    "## Step 4: Start the Task\n",
    "\n",
    "Enable the task to begin monitoring and restoring network rules.\n"
   ]
  },
  {
   "cell_type": "code",
   "execution_count": null,
   "id": "ce110000-1111-2222-3333-ffffff000014",
   "metadata": {
    "language": "sql",
    "name": "resumeTask",
    "vscode": {
     "languageId": "sql"
    }
   },
   "outputs": [],
   "source": "-- Start the task\nALTER TASK {{TASK_NAME}} RESUME;"
  },
  {
   "cell_type": "code",
   "execution_count": null,
   "id": "ce110000-1111-2222-3333-ffffff000015",
   "metadata": {
    "language": "sql",
    "name": "verifyTask",
    "vscode": {
     "languageId": "sql"
    }
   },
   "outputs": [],
   "source": [
    "-- Verify the task is running\n",
    "SHOW TASKS LIKE '{{TASK_NAME}}';"
   ]
  },
  {
   "cell_type": "markdown",
   "id": "ce110000-1111-2222-3333-ffffff000016",
   "metadata": {
    "name": "step5Monitoring"
   },
   "source": [
    "## Step 5: Verification and Monitoring\n",
    "\n",
    "Use these queries to monitor the task execution and verify the network rules are being maintained.\n"
   ]
  },
  {
   "cell_type": "code",
   "execution_count": null,
   "id": "ce110000-1111-2222-3333-ffffff000017",
   "metadata": {
    "language": "sql",
    "name": "descNetworkPol",
    "vscode": {
     "languageId": "sql"
    }
   },
   "outputs": [],
   "source": [
    "-- Check current network policy settings\n",
    "DESCRIBE NETWORK POLICY {{NETWORK_POLICY_NAME}};"
   ]
  },
  {
   "cell_type": "code",
   "execution_count": null,
   "id": "ce110000-1111-2222-3333-ffffff000018",
   "metadata": {
    "language": "sql",
    "name": "checkTaskHistory",
    "vscode": {
     "languageId": "sql"
    }
   },
   "outputs": [],
   "source": "-- Check task execution history. It should be SCHEDULED if you've just set it up.\nSELECT\n    name,\n    state,\n    scheduled_time,\n    completed_time,\n    return_value,\n    error_code,\n    error_message\nFROM table(information_schema.task_history())\nWHERE name = '{{TASK_NAME}}'\nORDER BY scheduled_time DESC\nLIMIT 10;"
  },
  {
   "cell_type": "code",
   "execution_count": null,
   "id": "ce110000-1111-2222-3333-ffffff000019",
   "metadata": {
    "language": "sql",
    "name": "usefulCommands",
    "vscode": {
     "languageId": "sql"
    }
   },
   "outputs": [],
   "source": [
    "-- Show all Tasks\n",
    "-- SHOW TASKS;\n",
    "\n",
    "-- Pause the task if needed\n",
    "-- ALTER TASK {{TASK_NAME}} SUSPEND;\n",
    "\n",
    "-- Check all network rules\n",
    "-- SHOW NETWORK RULES;\n",
    "\n",
    "-- Check all network policies\n",
    "-- SHOW NETWORK POLICIES;\n",
    "\n",
    "-- Get task definition\n",
    "-- SELECT GET_DDL('TASK', '{{TASK_NAME}}');\n"
   ]
  }
 ]
}