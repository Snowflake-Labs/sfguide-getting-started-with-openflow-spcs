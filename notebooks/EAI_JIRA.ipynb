{
 "cells": [
  {
   "cell_type": "markdown",
   "id": "92468f8e-21c5-416e-9398-c04ad416dec6",
   "metadata": {
    "collapsed": false,
    "name": "Intro"
   },
   "source": [
    "# SPCS Networking Connectivity Test: Jira Cloud\n",
    "\n",
    "**Note: This Notebook should be run in an SPCS Container for testing to be valid**\n",
    "\n",
    "1. Please provide your Jira URL\n",
    "2. Check that the Network Rule structure matches your requirements\n",
    "3. Run the Connectivity Test if your EAI is already configured\n",
    "4. Use the Cells to prepare the EAI if needed, then rerun the test."
   ]
  },
  {
   "cell_type": "code",
   "execution_count": null,
   "id": "3775908f-ca36-4846-8f38-5adca39217f2",
   "metadata": {
    "language": "python",
    "name": "initConfig"
   },
   "outputs": [],
   "source": [
    "# Jira Connectivity Test Configuration\n",
    "# Update the JIRA_INSTANCE_URL with your actual Jira instance URL\n",
    "\n",
    "# User Configuration - UPDATE THIS\n",
    "JIRA_INSTANCE_URL = \"https://snowflakecomputing.atlassian.net\"  # Replace with your actual Jira URL\n",
    "ATLASSIAN_AUTH_URL = \"https://api.atlassian.com\"\n",
    "ATLASSIAN_ID_URL = \"https://id.atlassian.com\"\n",
    "\n",
    "# This role will be used to create the EAI and other objects if necessary\n",
    "IMPLEMENTATION_ROLE = \"ACCOUNTADMIN\"\n",
    "\n",
    "# This role will be used by Openflow to run Connectors and perform your Data Engineering tasks\n",
    "OPENFLOW_RUNTIME_ROLE = \"OPENFLOWRUNTIMEROLE\"\n",
    "\n",
    "print(f\"Configuration:\")\n",
    "print(f\"Jira Instance: {JIRA_INSTANCE_URL}\")\n",
    "print(f\"Atlassian Auth: {ATLASSIAN_AUTH_URL}\")\n",
    "print(f\"Atlassian ID: {ATLASSIAN_ID_URL}\")\n",
    "print(\"\\nReady to test connectivity...\")"
   ]
  },
  {
   "cell_type": "code",
   "execution_count": null,
   "id": "e16c0328-ba0e-4e6f-9044-e9e026349c27",
   "metadata": {
    "language": "python",
    "name": "ConTest"
   },
   "outputs": [],
   "source": [
    "import requests\n",
    "from urllib.parse import urlparse\n",
    "\n",
    "def test_connectivity(url, description):\n",
    "    \"\"\"Test HTTP connectivity to a given URL\"\"\"\n",
    "    try:\n",
    "        print(f\"\\n🔍 Testing {description}: {url}\")\n",
    "\n",
    "        # Simple HTTP test - let EAI handle the routing\n",
    "        response = requests.get(url, timeout=10, allow_redirects=True)\n",
    "        print(f\"  ✅ HTTP Response: {response.status_code}\")\n",
    "\n",
    "        # Any response means connectivity is working\n",
    "        return True\n",
    "\n",
    "    except requests.exceptions.ConnectionError as e:\n",
    "        print(f\"  ❌ Connection Error: {e}\")\n",
    "        return False\n",
    "    except requests.exceptions.Timeout as e:\n",
    "        print(f\"  ❌ Timeout Error: {e}\")\n",
    "        return False\n",
    "    except Exception as e:\n",
    "        print(f\"  ❌ Error: {e}\")\n",
    "        return False\n",
    "\n",
    "# Run connectivity tests\n",
    "print(\"=\" * 60)\n",
    "print(\"JIRA CONNECTIVITY TEST\")\n",
    "print(\"=\" * 60)\n",
    "\n",
    "results = {}\n",
    "results['jira_instance'] = test_connectivity(JIRA_INSTANCE_URL, \"Jira Instance\")\n",
    "results['atlassian_auth'] = test_connectivity(ATLASSIAN_AUTH_URL, \"Atlassian Auth API\")\n",
    "results['atlassian_id'] = test_connectivity(ATLASSIAN_ID_URL, \"Atlassian ID Service\")\n",
    "\n",
    "print(\"\\n\" + \"=\" * 60)\n",
    "print(\"CONNECTIVITY TEST SUMMARY\")\n",
    "print(\"=\" * 60)\n",
    "\n",
    "all_passed = True\n",
    "for service, passed in results.items():\n",
    "    status = \"✅ PASS\" if passed else \"❌ FAIL\"\n",
    "    print(f\"{service.upper()}: {status}\")\n",
    "    if not passed:\n",
    "        all_passed = False\n",
    "\n",
    "if all_passed:\n",
    "    print(f\"\\n🎉 All connectivity tests PASSED!\")\n",
    "    print(\"Your SPCS environment can reach all required Jira endpoints.\")\n",
    "    print(\"You can proceed with Jira integration.\")\n",
    "else:\n",
    "    print(f\"\\n⚠️  Some connectivity tests FAILED!\")\n",
    "    print(\"You need to configure Snowflake External Access Integration (EAI).\")\n",
    "    print(\"Please run the EAI setup cells below to resolve connectivity issues.\")"
   ]
  },
  {
   "cell_type": "markdown",
   "id": "418fd162-a013-444f-a648-70cce5951cea",
   "metadata": {
    "collapsed": false,
    "name": "advice"
   },
   "source": [
    "If Connectivity testing fails, you can use the Cells below to prepare and implement an EAI suitable for JIRA access."
   ]
  },
  {
   "cell_type": "code",
   "execution_count": null,
   "id": "76341d80-6a6e-4318-9047-0258b75c9722",
   "metadata": {
    "language": "sql",
    "name": "createOrReplaceRules",
    "vscode": {
     "languageId": "sql"
    }
   },
   "outputs": [],
   "source": [
    "-- Create Network Rules for Jira Cloud connectivity\n",
    "-- Run this cell if connectivity tests failed\n",
    "\n",
    "-- Network rule for Atlassian authentication services\n",
    "CREATE OR REPLACE NETWORK RULE jira_connectivity_rule\n",
    "  MODE = EGRESS\n",
    "  TYPE = HOST_PORT\n",
    "  VALUE_LIST = (\n",
    "    '*.atlassian.net:443',\n",
    "    '*.atlassian.com:443',\n",
    "    'api.atlassian.com:443',\n",
    "    'auth.atlassian.com:443',\n",
    "    'id.atlassian.com:443',\n",
    "    'api.jira.com:443',\n",
    "    '{{JIRA_INSTANCE_URL}}:443'\n",
    "  );\n",
    "\n",
    "SHOW NETWORK RULES LIKE 'jira_%';"
   ]
  },
  {
   "cell_type": "code",
   "execution_count": null,
   "id": "a738f844-c49c-4594-ab85-c7e8a2dcddcf",
   "metadata": {
    "language": "sql",
    "name": "createOrReplaceEAI",
    "vscode": {
     "languageId": "sql"
    }
   },
   "outputs": [],
   "source": [
    "use role accountadmin;\n",
    "CREATE OR REPLACE EXTERNAL ACCESS INTEGRATION jira_eai\n",
    "  ALLOWED_NETWORK_RULES = (\n",
    "    jira_connectivity_rule\n",
    "  )\n",
    "  ENABLED = TRUE\n",
    "  COMMENT = 'External Access Integration for Atlassian Jira Cloud connectivity';\n",
    "\n",
    "  SHOW EXTERNAL ACCESS INTEGRATIONS LIKE 'jira_eai';"
   ]
  },
  {
   "cell_type": "code",
   "execution_count": null,
   "id": "3b64620c-a086-44ad-99d7-4d9c48fdd22f",
   "metadata": {
    "language": "sql",
    "name": "applyEAI",
    "vscode": {
     "languageId": "sql"
    }
   },
   "outputs": [],
   "source": [
    "ALTER NOTEBOOK EAI_JIRA\n",
    "  SET EXTERNAL_ACCESS_INTEGRATIONS = ('JIRA_EAI');"
   ]
  },
  {
   "cell_type": "markdown",
   "id": "94c9654b-0e51-4489-90d6-6af058741490",
   "metadata": {
    "collapsed": false,
    "name": "testAgain"
   },
   "source": [
    "After Creating and Setting the EAI on the Notebook, run the Connectivity test again.\n",
    "\n",
    "*NOTE: Remember to restart your compute session*"
   ]
  },
  {
   "cell_type": "code",
   "execution_count": null,
   "id": "f1241b69-b673-4b20-9b3b-3ad7d770de26",
   "metadata": {
    "language": "sql",
    "name": "cell2",
    "vscode": {
     "languageId": "sql"
    }
   },
   "outputs": [],
   "source": [
    "-- Check if network rules exist\n",
    "SHOW NETWORK RULES LIKE 'jira_%';"
   ]
  },
  {
   "cell_type": "code",
   "execution_count": null,
   "id": "5998eaca-d704-4994-ad3d-a6e0e9c47e1c",
   "metadata": {
    "language": "sql",
    "name": "cell1",
    "vscode": {
     "languageId": "sql"
    }
   },
   "outputs": [],
   "source": [
    "-- Check if EAI exists\n",
    "SHOW EXTERNAL ACCESS INTEGRATIONS LIKE 'jira_eai';"
   ]
  }
 ],
 "metadata": {
  "kernelspec": {
   "display_name": "Streamlit Notebook",
   "name": "streamlit"
  },
  "lastEditStatus": {
   "authorEmail": "davinder.mundy@snowflake.com",
   "authorId": "8027671336017",
   "authorName": "DMUNDY",
   "lastEditTime": 1759269064005,
   "notebookId": "z2ihyz3klxk3vn3h3jgx",
   "sessionId": "6edda38f-bf99-458f-8507-e8e90013a41d"
  }
 },
 "nbformat": 4,
 "nbformat_minor": 5
}
