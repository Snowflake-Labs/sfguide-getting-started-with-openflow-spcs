{
 "cells": [
  {
   "cell_type": "markdown",
   "id": "92468f8e-21c5-416e-9398-c04ad416dec6",
   "metadata": {
    "collapsed": false,
    "name": "Intro"
   },
   "source": [
    "*SPCS Networking Connectivity Test: Microsoft Sharepoint*\n",
    "\n",
    "1. Please provide your Sharepoint URL\n",
    "2. Check that the Network Rule structure matches your requirements\n",
    "3. Run the Connectivity Test if your EAI is already configured\n",
    "4. Use the Cells to prepare the EAI if needed, then rerun the test."
   ]
  },
  {
   "cell_type": "code",
   "execution_count": null,
   "id": "3775908f-ca36-4846-8f38-5adca39217f2",
   "metadata": {
    "language": "python",
    "name": "initConfig"
   },
   "outputs": [],
   "source": [
    "# SharePoint Connectivity Test Configuration\n",
    "# Update the SHAREPOINT_SITE_URL with your actual SharePoint site URL\n",
    "\n",
    "# User Configuration - UPDATE THIS\n",
    "SHAREPOINT_SITE_URL = \"https://abc.sharepoint.com/sites/xyz\"  # Replace with your actual SharePoint URL\n",
    "MICROSOFT_LOGIN_URL = \"https://login.microsoft.com\"\n",
    "MICROSOFT_GRAPH_URL = \"https://graph.microsoft.com\"\n",
    "\n",
    "print(f\"Configuration:\")\n",
    "print(f\"SharePoint Site: {SHAREPOINT_SITE_URL}\")\n",
    "print(\"\\nReady to test connectivity...\")"
   ]
  },
  {
   "cell_type": "code",
   "execution_count": null,
   "id": "e16c0328-ba0e-4e6f-9044-e9e026349c27",
   "metadata": {
    "language": "python",
    "name": "ConTest"
   },
   "outputs": [],
   "source": [
    "import requests\n",
    "from urllib.parse import urlparse\n",
    "\n",
    "def test_connectivity(url, description):\n",
    "    \"\"\"Test HTTP connectivity to a given URL\"\"\"\n",
    "    try:\n",
    "        print(f\"\\n🔍 Testing {description}: {url}\")\n",
    "\n",
    "        # Simple HTTP test - let EAI handle the routing\n",
    "        response = requests.get(url, timeout=10, allow_redirects=True)\n",
    "        print(f\"  ✅ HTTP Response: {response.status_code}\")\n",
    "\n",
    "        # Any response means connectivity is working\n",
    "        return True\n",
    "\n",
    "    except requests.exceptions.ConnectionError as e:\n",
    "        print(f\"  ❌ Connection Error: {e}\")\n",
    "        return False\n",
    "    except requests.exceptions.Timeout as e:\n",
    "        print(f\"  ❌ Timeout Error: {e}\")\n",
    "        return False\n",
    "    except Exception as e:\n",
    "        print(f\"  ❌ Error: {e}\")\n",
    "        return False\n",
    "\n",
    "# Run connectivity tests\n",
    "print(\"=\" * 60)\n",
    "print(\"SHAREPOINT CONNECTIVITY TEST\")\n",
    "print(\"=\" * 60)\n",
    "\n",
    "results = {}\n",
    "results['sharepoint'] = test_connectivity(SHAREPOINT_SITE_URL, \"SharePoint Site\")\n",
    "results['login'] = test_connectivity(MICROSOFT_LOGIN_URL, \"Microsoft Login\")\n",
    "results['graph'] = test_connectivity(MICROSOFT_GRAPH_URL, \"Microsoft Graph API\")\n",
    "\n",
    "print(\"\\n\" + \"=\" * 60)\n",
    "print(\"CONNECTIVITY TEST SUMMARY\")\n",
    "print(\"=\" * 60)\n",
    "\n",
    "all_passed = True\n",
    "for service, passed in results.items():\n",
    "    status = \"✅ PASS\" if passed else \"❌ FAIL\"\n",
    "    print(f\"{service.upper()}: {status}\")\n",
    "    if not passed:\n",
    "        all_passed = False\n",
    "\n",
    "if all_passed:\n",
    "    print(f\"\\n🎉 All connectivity tests PASSED!\")\n",
    "    print(\"Your SPCS environment can reach all required SharePoint endpoints.\")\n",
    "    print(\"You can proceed with SharePoint integration.\")\n",
    "else:\n",
    "    print(f\"\\n⚠️  Some connectivity tests FAILED!\")\n",
    "    print(\"You need to configure Snowflake External Access Integration (EAI).\")\n",
    "    print(\"Please run the EAI setup cells below to resolve connectivity issues.\")"
   ]
  },
  {
   "cell_type": "markdown",
   "id": "418fd162-a013-444f-a648-70cce5951cea",
   "metadata": {
    "collapsed": false,
    "name": "advice"
   },
   "source": [
    "If Connectivity testing fails, you can use the Cells below to prepare and implement an EAI suitable for Sharepoint access."
   ]
  },
  {
   "cell_type": "code",
   "execution_count": null,
   "id": "76341d80-6a6e-4318-9047-0258b75c9722",
   "metadata": {
    "language": "sql",
    "name": "createOrReplaceRules"
   },
   "outputs": [],
   "source": [
    "-- Create Network Rules for SharePoint connectivity\n",
    "-- Run this cell if connectivity tests failed\n",
    "\n",
    "-- Network rule for Microsoft login services\n",
    "CREATE OR REPLACE NETWORK RULE sharepoint_services_rule\n",
    "  MODE = EGRESS\n",
    "  TYPE = HOST_PORT\n",
    "  VALUE_LIST = ('login.microsoftonline.com:443', 'login.microsoft.com:443', 'www.office.com:443','graph.microsoft.com:443', 'developer.microsoft.com:443');\n",
    "\n",
    "-- Network rule for SharePoint sites (modify domain as needed)\n",
    "-- You may need to update this with your specific SharePoint domain\n",
    "CREATE OR REPLACE NETWORK RULE sharepoint_site_rule\n",
    "  MODE = EGRESS\n",
    "  TYPE = HOST_PORT\n",
    "  VALUE_LIST = ('*.sharepoint.com:443');\n",
    "\n",
    "SHOW NETWORK RULES LIKE 'sharepoint_%';"
   ]
  },
  {
   "cell_type": "code",
   "execution_count": null,
   "id": "a738f844-c49c-4594-ab85-c7e8a2dcddcf",
   "metadata": {
    "language": "sql",
    "name": "createOrReplaceEAI"
   },
   "outputs": [],
   "source": [
    "-- Create External Access Integration for SharePoint\n",
    "-- This combines all the network rules into a single integration\n",
    "\n",
    "CREATE OR REPLACE EXTERNAL ACCESS INTEGRATION sharepoint_eai\n",
    "  ALLOWED_NETWORK_RULES = (\n",
    "    sharepoint_services_rule,\n",
    "    sharepoint_site_rule\n",
    "  )\n",
    "  ENABLED = TRUE\n",
    "  COMMENT = 'External Access Integration for Microsoft SharePoint connectivity';\n",
    "\n",
    "-- Grant usage on the integration to your role\n",
    "GRANT USAGE ON INTEGRATION sharepoint_eai TO ROLE ACCOUNTADMIN;\n",
    "\n",
    "SHOW EXTERNAL ACCESS INTEGRATIONS LIKE 'sharepoint_eai';"
   ]
  },
  {
   "cell_type": "code",
   "execution_count": null,
   "id": "3b64620c-a086-44ad-99d7-4d9c48fdd22f",
   "metadata": {
    "language": "sql",
    "name": "applyEAI"
   },
   "outputs": [],
   "source": [
    "ALTER NOTEBOOK SPCSCONTEST_SHAREPOINT\n",
    "  SET EXTERNAL_ACCESS_INTEGRATIONS = ('SHAREPOINT_EAI');"
   ]
  },
  {
   "cell_type": "markdown",
   "id": "94c9654b-0e51-4489-90d6-6af058741490",
   "metadata": {
    "collapsed": false,
    "name": "testAgain"
   },
   "source": [
    "After Creating and Setting the EAI on the Notebook, run the Connectivity test again."
   ]
  }
 ],
 "metadata": {
  "kernelspec": {
   "display_name": "Streamlit Notebook",
   "name": "streamlit"
  },
  "lastEditStatus": {
   "authorEmail": "dan.chaffelson@snowflake.com",
   "authorId": "7416884657264",
   "authorName": "DCHAFFELSON",
   "lastEditTime": 1758034567726,
   "notebookId": "tos5pmx2jqj3x4k47lyw",
   "sessionId": "8217ce35-5c1d-4a20-841c-86c6f0ef06cd"
  }
 },
 "nbformat": 4,
 "nbformat_minor": 5
}
