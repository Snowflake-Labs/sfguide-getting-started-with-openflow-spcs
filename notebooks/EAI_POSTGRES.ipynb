{
 "cells": [
  {
   "cell_type": "markdown",
   "id": "92468f8e-21c5-416e-9398-c04ad416dec6",
   "metadata": {
    "collapsed": false,
    "name": "Intro"
   },
   "source": [
    "# SPCS PostgreSQL Database Connectivity Test\n",
    "\n",
    "This notebook provides modular components for testing PostgreSQL connectivity from Snowflake Container Services (SPCS):\n",
    "\n",
    "## Quick Start Options:\n",
    "1. **Basic Test**: Configure parameters and run network/auth tests\n",
    "2. **Full Setup**: Use cells to set up PyPI access and PostgreSQL EAI as needed\n",
    "3. **Custom Setup**: Pick and choose individual components as needed\n",
    "\n",
    "## Components Available:\n",
    "- **Configuration**: Set your PostgreSQL connection parameters\n",
    "- **PyPI Setup**: Optional - enables installing pg8000 driver from PyPI\n",
    "- **Network Test**: Tests basic network connectivity to PostgreSQL host\n",
    "- **Authentication Test**: Tests PostgreSQL authentication and basic queries using pg8000\n",
    "- **PostgreSQL EAI**: Optional - configures External Access Integration for PostgreSQL\n",
    "\n",
    "\n",
    "**Note: You must restart the Session after making EAI changes for them to take effect**"
   ]
  },
  {
   "cell_type": "code",
   "execution_count": null,
   "id": "3775908f-ca36-4846-8f38-5adca39217f2",
   "metadata": {
    "language": "python",
    "name": "initConfig"
   },
   "outputs": [],
   "source": [
    "# PostgreSQL Connectivity Test Configuration\n",
    "# Update these parameters with your actual PostgreSQL connection details\n",
    "\n",
    "# User Configuration - UPDATE THIS\n",
    "POSTGRES_HOST = \"aurora-postgresql.cluster-abcdef122.us-east-2.rds.amazonaws.com\"\n",
    "POSTGRES_PORT = 5432\n",
    "POSTGRES_DATABASE = \"postgres\"\n",
    "POSTGRES_USER = \"postgres\"\n",
    "POSTGRES_PASSWORD = \"password\"\n",
    "\n",
    "print(f\"Configuration:\")\n",
    "print(f\"PostgreSQL Host: {POSTGRES_HOST}\")\n",
    "print(f\"PostgreSQL Port: {POSTGRES_PORT}\")\n",
    "print(f\"PostgreSQL Database: {POSTGRES_DATABASE}\")\n",
    "print(f\"PostgreSQL User: {POSTGRES_USER}\")\n",
    "print(\"\\nReady to test connectivity...\")"
   ]
  },
  {
   "cell_type": "markdown",
   "id": "c1e49489-2c8b-43fc-9362-45681d5bec6d",
   "metadata": {
    "name": "PyPiSetupInstructions"
   },
   "source": [
    "## 1. PyPI Setup (Optional)\n",
    "\n",
    "Run these cells if you need to install the pg8000 PostgreSQL driver from PyPI. This creates the necessary network rules and External Access Integration for PyPI access.\n",
    "\n",
    "**Skip this section if you already have pg8000 installed or have PyPI access configured.**\n"
   ]
  },
  {
   "cell_type": "code",
   "execution_count": null,
   "id": "4c417109-db2a-4f25-9bbf-c99417ce27fc",
   "metadata": {
    "language": "sql",
    "name": "SetupPyPiEAI",
    "vscode": {
     "languageId": "sql"
    }
   },
   "outputs": [],
   "source": [
    "-- Create Network Rule and External Access Integration for PyPI\n",
    "-- Run this cell to enable installing Python packages from PyPI\n",
    "\n",
    "CREATE OR REPLACE NETWORK RULE pypi_network_rule\n",
    "  MODE = EGRESS\n",
    "  TYPE = HOST_PORT\n",
    "  VALUE_LIST = ('pypi.org', 'pypi.python.org', 'pythonhosted.org', 'files.pythonhosted.org');\n",
    "\n",
    "CREATE OR REPLACE EXTERNAL ACCESS INTEGRATION pypi_access_integration\n",
    "  ALLOWED_NETWORK_RULES = (pypi_network_rule)\n",
    "  ENABLED = true\n",
    "  COMMENT = 'External Access Integration for PyPI package installation';\n",
    "\n",
    "-- Grant usage on the integration\n",
    "GRANT USAGE ON INTEGRATION pypi_access_integration TO ROLE ACCOUNTADMIN;\n",
    "\n",
    "SHOW EXTERNAL ACCESS INTEGRATIONS LIKE 'pypi_access_integration';\n"
   ]
  },
  {
   "cell_type": "code",
   "execution_count": null,
   "id": "2df568c3-14c1-4fbe-a959-4600fed4f82d",
   "metadata": {
    "language": "sql",
    "name": "AddPyPiToNotebook",
    "vscode": {
     "languageId": "sql"
    }
   },
   "outputs": [],
   "source": [
    "-- Apply PyPI integration to this notebook\n",
    "-- Run this after creating the PyPI integration above\n",
    "\n",
    "ALTER NOTEBOOK EAI_POSTGRES\n",
    "  SET EXTERNAL_ACCESS_INTEGRATIONS = ('pypi_access_integration');\n"
   ]
  },
  {
   "cell_type": "markdown",
   "id": "c210a2da-a206-4364-b42d-f789e29e7d9d",
   "metadata": {
    "name": "RestartWarning"
   },
   "source": [
    "**NOTE: You will need to restart the Notebook session after applying an EAI**"
   ]
  },
  {
   "cell_type": "code",
   "execution_count": null,
   "id": "e0d195a8-3a51-49bf-b6f9-463e1cb9de2e",
   "metadata": {
    "language": "python",
    "name": "InstallPsycopg"
   },
   "outputs": [],
   "source": [
    "# Install PostgreSQL driver (pg8000)\n",
    "# Make sure PyPI access is configured first if you get connection errors\n",
    "# You can run this cell twice; the first to install the driver, the second to confirm it is imported\n",
    "\n",
    "try:\n",
    "    import pg8000\n",
    "    print(\"✅ pg8000 already available\")\n",
    "except ImportError:\n",
    "    print(\"📦 Installing pg8000...\")\n",
    "    %pip install pg8000\n",
    "    print(\"✅ pg8000 installed\")"
   ]
  },
  {
   "cell_type": "markdown",
   "id": "1ac92f00-79bf-42fe-9b5c-baa0b738029f",
   "metadata": {
    "name": "ConTestInstructions"
   },
   "source": [
    "## 2. Connectivity Tests\n",
    "\n",
    "These cells test connectivity to your PostgreSQL database. Run them in order to diagnose any connection issues.\n",
    "\n",
    "**Note: If you need to install pg8000, make sure to run the PyPI setup section first and restart your session.**\n"
   ]
  },
  {
   "cell_type": "code",
   "execution_count": null,
   "id": "e16c0328-ba0e-4e6f-9044-e9e026349c27",
   "metadata": {
    "language": "python",
    "name": "ConTest"
   },
   "outputs": [],
   "source": [
    "# Network Connectivity Test\n",
    "# Tests basic network connectivity to PostgreSQL host and port\n",
    "\n",
    "import socket\n",
    "\n",
    "def test_network_connectivity(host, port, description):\n",
    "    \"\"\"Test network connectivity to PostgreSQL host and port\"\"\"\n",
    "    try:\n",
    "        print(f\"🔍 Testing {description}: {host}:{port}\")\n",
    "\n",
    "        # Test network connectivity\n",
    "        sock = socket.socket(socket.AF_INET, socket.SOCK_STREAM)\n",
    "        sock.settimeout(10)\n",
    "        result = sock.connect_ex((host, port))\n",
    "        sock.close()\n",
    "\n",
    "        if result == 0:\n",
    "            print(f\"  ✅ Network connection successful\")\n",
    "            return True\n",
    "        else:\n",
    "            print(f\"  ❌ Network connection failed (error code: {result})\")\n",
    "            print(f\"  💡 This may indicate the need for a PostgreSQL EAI\")\n",
    "            return False\n",
    "\n",
    "    except Exception as e:\n",
    "        print(f\"  ❌ Network Error: {e}\")\n",
    "        return False\n",
    "\n",
    "# Run network connectivity test\n",
    "print(\"=\" * 50)\n",
    "print(\"NETWORK CONNECTIVITY TEST\")\n",
    "print(\"=\" * 50)\n",
    "\n",
    "network_result = test_network_connectivity(POSTGRES_HOST, POSTGRES_PORT, \"PostgreSQL Network Connectivity\")\n",
    "\n",
    "if network_result:\n",
    "    print(f\"\\n✅ Network connectivity PASSED - PostgreSQL host is reachable\")\n",
    "    print(\"You can proceed to test PostgreSQL authentication.\")\n",
    "else:\n",
    "    print(f\"\\n❌ Network connectivity FAILED\")\n",
    "    print(\"You need to configure a PostgreSQL External Access Integration (EAI).\")\n",
    "    print(\"See the PostgreSQL EAI Setup section below.\")"
   ]
  },
  {
   "cell_type": "code",
   "execution_count": null,
   "id": "bf604a37-4c12-4366-9bd9-ad446eb42021",
   "metadata": {
    "language": "python",
    "name": "authTest"
   },
   "outputs": [],
   "source": [
    "# PostgreSQL Authentication Test\n",
    "# Tests PostgreSQL authentication and basic database operations\n",
    "# Run this after confirming network connectivity works\n",
    "\n",
    "def test_postgres_authentication():\n",
    "    \"\"\"Test PostgreSQL authentication and basic query\"\"\"\n",
    "    try:\n",
    "        print(f\"🔍 Testing PostgreSQL Authentication and Basic Query\")\n",
    "\n",
    "        # Import pg8000 library\n",
    "        try:\n",
    "            import pg8000\n",
    "            print(\"  📦 Using pg8000 library\")\n",
    "        except ImportError:\n",
    "            print(\"  ❌ pg8000 library not available\")\n",
    "            print(\"  💡 Run the PyPI setup section first to install pg8000\")\n",
    "            return False\n",
    "\n",
    "        # Create database connection\n",
    "        conn = pg8000.connect(\n",
    "            host=POSTGRES_HOST,\n",
    "            port=POSTGRES_PORT,\n",
    "            database=POSTGRES_DATABASE,\n",
    "            user=POSTGRES_USER,\n",
    "            password=POSTGRES_PASSWORD\n",
    "        )\n",
    "\n",
    "        print(f\"  ✅ Authentication successful\")\n",
    "\n",
    "        # Test basic query\n",
    "        cursor = conn.cursor()\n",
    "        cursor.execute(\"SELECT version();\")\n",
    "        version = cursor.fetchone()[0]\n",
    "        print(f\"  ✅ Database query successful\")\n",
    "        print(f\"  📊 PostgreSQL Version: {version[:50]}...\")\n",
    "\n",
    "        # List tables\n",
    "        cursor.execute(\"\"\"\n",
    "            SELECT table_name\n",
    "            FROM information_schema.tables\n",
    "            WHERE table_schema = 'public'\n",
    "            LIMIT 5;\n",
    "        \"\"\")\n",
    "        tables = cursor.fetchall()\n",
    "        print(f\"  📋 Found {len(tables)} tables in public schema\")\n",
    "        for table in tables[:3]:  # Show first 3 tables\n",
    "            print(f\"     - {table[0]}\")\n",
    "\n",
    "        cursor.close()\n",
    "        conn.close()\n",
    "        return True\n",
    "\n",
    "    except Exception as e:\n",
    "        print(f\"  ❌ Database Error: {e}\")\n",
    "        print(f\"  💡 Check your credentials or network connectivity\")\n",
    "        return False\n",
    "\n",
    "# Run PostgreSQL authentication test\n",
    "print(\"=\" * 50)\n",
    "print(\"POSTGRESQL AUTHENTICATION TEST\")\n",
    "print(\"=\" * 50)\n",
    "\n",
    "auth_result = test_postgres_authentication()\n",
    "\n",
    "if auth_result:\n",
    "    print(f\"\\n✅ PostgreSQL authentication PASSED\")\n",
    "    print(\"Your SPCS environment can successfully connect to PostgreSQL!\")\n",
    "    print(\"You can proceed with PostgreSQL integration.\")\n",
    "else:\n",
    "    print(f\"\\n❌ PostgreSQL authentication FAILED\")\n",
    "    print(\"Check your credentials and ensure network connectivity is working.\")\n",
    "    print(\"You may also need to configure PostgreSQL EAI (see section below).\")\n"
   ]
  },
  {
   "cell_type": "markdown",
   "id": "418fd162-a013-444f-a648-70cce5951cea",
   "metadata": {
    "collapsed": false,
    "name": "PostgresEAISetup"
   },
   "source": [
    "## 3. PostgreSQL EAI Setup (Optional)\n",
    "\n",
    "Run these cells if connectivity tests failed. This creates the necessary network rules and External Access Integration specifically for PostgreSQL database access.\n",
    "\n",
    "**Skip this section if your connectivity tests passed.**"
   ]
  },
  {
   "cell_type": "code",
   "execution_count": null,
   "id": "76341d80-6a6e-4318-9047-0258b75c9722",
   "metadata": {
    "language": "sql",
    "name": "createOrReplaceRules",
    "vscode": {
     "languageId": "sql"
    }
   },
   "outputs": [],
   "source": [
    "-- Create Network Rule for PostgreSQL connectivity\n",
    "-- This allows egress traffic to your specific PostgreSQL host and port\n",
    "\n",
    "-- Network rule for your PostgreSQL database server\n",
    "-- Uses the variables set in the configuration cell above\n",
    "CREATE OR REPLACE NETWORK RULE POSTGRES_DB_RULE\n",
    "  MODE = EGRESS\n",
    "  TYPE = HOST_PORT\n",
    "  VALUE_LIST = ('{{POSTGRES_HOST}}:{{POSTGRES_PORT}}');\n",
    "\n",
    "-- Show the created network rule\n",
    "DESCRIBE NETWORK RULE POSTGRES_DB_RULE;"
   ]
  },
  {
   "cell_type": "code",
   "execution_count": null,
   "id": "a738f844-c49c-4594-ab85-c7e8a2dcddcf",
   "metadata": {
    "language": "sql",
    "name": "createOrReplaceEAI",
    "vscode": {
     "languageId": "sql"
    }
   },
   "outputs": [],
   "source": [
    "-- Create External Access Integration for PostgreSQL\n",
    "-- This combines all the network rules into a single integration\n",
    "\n",
    "CREATE OR REPLACE EXTERNAL ACCESS INTEGRATION POSTGRES_EAI\n",
    "  ALLOWED_NETWORK_RULES = (\n",
    "    POSTGRES_DB_RULE\n",
    "  )\n",
    "  ENABLED = TRUE\n",
    "  COMMENT = 'External Access Integration for PostgreSQL database connectivity';\n",
    "\n",
    "-- Grant usage on the integration to your role\n",
    "GRANT USAGE ON INTEGRATION POSTGRES_EAI TO ROLE ACCOUNTADMIN;\n",
    "\n",
    "SHOW EXTERNAL ACCESS INTEGRATIONS LIKE 'POSTGRES_EAI';"
   ]
  },
  {
   "cell_type": "code",
   "execution_count": null,
   "id": "3b64620c-a086-44ad-99d7-4d9c48fdd22f",
   "metadata": {
    "language": "sql",
    "name": "applyEAI",
    "vscode": {
     "languageId": "sql"
    }
   },
   "outputs": [],
   "source": [
    "-- Apply PostgreSQL EAI to this notebook\n",
    "-- This enables the notebook to access your PostgreSQL database\n",
    "-- Include pypi_access_integration if you created it earlier\n",
    "\n",
    "ALTER NOTEBOOK EAI_POSTGRES\n",
    "  SET EXTERNAL_ACCESS_INTEGRATIONS = ('POSTGRES_EAI', 'pypi_access_integration');"
   ]
  }
 ],
 "metadata": {
  "kernelspec": {
   "display_name": "pysnowpark",
   "language": "python",
   "name": "python3"
  },
  "language_info": {
   "name": "python",
   "version": "3.12.9"
  },
  "lastEditStatus": {
   "authorEmail": "dan.chaffelson@snowflake.com",
   "authorId": "7416884657264",
   "authorName": "DCHAFFELSON",
   "lastEditTime": 1758136840824,
   "notebookId": "52i6jpbaq5l2hbdwpdhe",
   "sessionId": "4315ecdf-92c6-47ab-ad11-cb7db7e2998f"
  }
 },
 "nbformat": 4,
 "nbformat_minor": 5
}
