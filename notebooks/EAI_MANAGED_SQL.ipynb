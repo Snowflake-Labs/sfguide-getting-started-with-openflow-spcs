{
 "metadata": {
  "kernelspec": {
   "display_name": "pysnowpark",
   "language": "python",
   "name": "python3"
  },
  "language_info": {
   "name": "python",
   "version": "3.12.9"
  },
  "lastEditStatus": {
   "notebookId": "4cmvlobtkdc755rygoh7",
   "authorId": "2252081117450",
   "authorName": "PIERREADM",
   "authorEmail": "pierre.lewandowski@snowflake.com",
   "sessionId": "d5b13506-2468-4f73-8d8f-3e81d892e9c7",
   "lastEditTime": 1761409107924
  }
 },
 "nbformat_minor": 5,
 "nbformat": 4,
 "cells": [
  {
   "cell_type": "markdown",
   "id": "92468f8e-21c5-416e-9398-c04ad416dec6",
   "metadata": {
    "collapsed": false,
    "name": "Intro"
   },
   "source": "# SPCS Azure Managed Instance Connectivity Test\n\n**Note: This Notebook should be run in an SPCS Container for testing to be valid**\n\nThis notebook provides modular components for testing Azure SQL Managed Instance connectivity from Snowflake Container Services (SPCS):\n\n## Quick Start Options:\n1. **Basic Test**: Configure parameters and run network/auth tests\n2. **Full Setup**: Use cells to set up PyPI access and SQL Managed Instance EAI as needed\n3. **Custom Setup**: Pick and choose individual components as needed\n\n## Components Available:\n- **Configuration**: Set your SQL Managed Instance connection parameters\n- **PyPI Setup**: Optional - enables installing pymssql driver from PyPI\n- **Network Test**: Tests basic network connectivity to Managed Instance host\n- **Authentication Test**: Tests Managed Instance authentication and basic queries using pymssql\n- **Managed Instance EAI**: Optional - configures External Access Integration for your Azure SQL Managed Instance\n\n\n**Note: You must restart the Session after making EAI changes for them to take effect**"
  },
  {
   "cell_type": "code",
   "execution_count": null,
   "id": "3775908f-ca36-4846-8f38-5adca39217f2",
   "metadata": {
    "language": "python",
    "name": "initConfig"
   },
   "outputs": [],
   "source": "# Managed Instance Connectivity Test Configuration\n# Update these parameters with your actual Managed Instance connection details\n\n# User Configuration - UPDATE THIS\nSQL_INSTANCE_HOST = \"snow-sql-azure.3b55c0b4fb11.database.windows.net\"\nSQL_INSTANCE_PORT = 1433\nSQL_INSTANCE_DATABASE = \"snowdb\"\nSQL_INSTANCE_USER = \"adminsql\"\nSQL_INSTANCE_PASSWORD = \"jeg1jzt4hja-vhm4RCF\"\n\n# This role will be used to create the EAI and other objects if necessary\nIMPLEMENTATION_ROLE = \"ACCOUNTADMIN\"\n\n# This role will be used by Openflow to run Connectors and perform your Data Engineering tasks\nOPENFLOW_RUNTIME_ROLE = \"ACCOUNTADMIN\"\n\nprint(f\"Configuration:\")\nprint(f\"SQL Managed Instance Host: {SQL_INSTANCE_HOST}\")\nprint(f\"SQL Managed Instance Port: {SQL_INSTANCE_PORT}\")\nprint(f\"SQL Managed Instance Database: {SQL_INSTANCE_DATABASE}\")\nprint(f\"SQL Managed Instance User: {SQL_INSTANCE_USER}\")\nprint(\"\\nReady to test connectivity...\")"
  },
  {
   "cell_type": "markdown",
   "id": "c1e49489-2c8b-43fc-9362-45681d5bec6d",
   "metadata": {
    "name": "PyPiSetupInstructions",
    "collapsed": false
   },
   "source": "## 1. PyPI Setup (Optional)\n\nRun these cells if you need to install the pymssql driver from PyPI. This creates the necessary network rules and External Access Integration for PyPI access.\n\n**Skip this section if you already have pymssql installed or have PyPI access configured.**\n"
  },
  {
   "cell_type": "code",
   "execution_count": null,
   "id": "4c417109-db2a-4f25-9bbf-c99417ce27fc",
   "metadata": {
    "language": "sql",
    "name": "SetupPyPiEAI",
    "vscode": {
     "languageId": "sql"
    }
   },
   "outputs": [],
   "source": [
    "-- Create Network Rule and External Access Integration for PyPI\n",
    "-- Run this cell to enable installing Python packages from PyPI\n",
    "\n",
    "USE ROLE {{IMPLEMENTATION_ROLE}};\n",
    "\n",
    "CREATE OR REPLACE NETWORK RULE pypi_network_rule\n",
    "  MODE = EGRESS\n",
    "  TYPE = HOST_PORT\n",
    "  VALUE_LIST = ('pypi.org', 'pypi.python.org', 'pythonhosted.org', 'files.pythonhosted.org');\n",
    "\n",
    "CREATE OR REPLACE EXTERNAL ACCESS INTEGRATION pypi_access_integration\n",
    "  ALLOWED_NETWORK_RULES = (pypi_network_rule)\n",
    "  ENABLED = true\n",
    "  COMMENT = 'External Access Integration for PyPI package installation';\n",
    "\n",
    "-- Grant usage on the integration\n",
    "GRANT USAGE ON INTEGRATION pypi_access_integration TO ROLE {{IMPLEMENTATION_ROLE}};\n",
    "\n",
    "SHOW EXTERNAL ACCESS INTEGRATIONS LIKE 'pypi_access_integration';\n"
   ]
  },
  {
   "cell_type": "code",
   "execution_count": null,
   "id": "2df568c3-14c1-4fbe-a959-4600fed4f82d",
   "metadata": {
    "language": "sql",
    "name": "AddPyPiToNotebook",
    "vscode": {
     "languageId": "sql"
    }
   },
   "outputs": [],
   "source": "-- Apply PyPI integration to this notebook\n-- Run this after creating the PyPI integration above\n\nALTER NOTEBOOK EAI_MANAGED_SQL\n  SET EXTERNAL_ACCESS_INTEGRATIONS = ('pypi_access_integration', 'MANAGED_SQL_EAI');\n\n  -- Restart your Notebook session after applying an EAI\n"
  },
  {
   "cell_type": "markdown",
   "id": "c210a2da-a206-4364-b42d-f789e29e7d9d",
   "metadata": {
    "name": "RestartWarning"
   },
   "source": [
    "**NOTE: You will need to restart the Notebook session after applying an EAI**"
   ]
  },
  {
   "cell_type": "code",
   "execution_count": null,
   "id": "e0d195a8-3a51-49bf-b6f9-463e1cb9de2e",
   "metadata": {
    "language": "python",
    "name": "Installpymssql"
   },
   "outputs": [],
   "source": "# Install MSSQL driver (pymssql)\n# Make sure PyPI access is configured first if you get connection errors\n# You can run this cell twice; the first to install the driver, the second to confirm it is imported\n\ntry:\n    import pymssql\n    print(\"✅ pymssql already available\")\nexcept ImportError:\n    print(\"📦 Installing pymssql...\")\n    %pip install pymssql\n    print(\"✅ pymssql installed\")\n"
  },
  {
   "cell_type": "markdown",
   "id": "1ac92f00-79bf-42fe-9b5c-baa0b738029f",
   "metadata": {
    "name": "ConTestInstructions",
    "collapsed": false
   },
   "source": "## 2. Connectivity Tests\n\nThese cells test connectivity to your Managed Instance. Run them in order to diagnose any connection issues.\n\n**Note: If you need to install pymssql, make sure to run the PyPI setup section first and restart your session.**\n"
  },
  {
   "cell_type": "code",
   "execution_count": null,
   "id": "e16c0328-ba0e-4e6f-9044-e9e026349c27",
   "metadata": {
    "language": "python",
    "name": "ConTest"
   },
   "outputs": [],
   "source": "# Network Connectivity Test\n# Tests basic network connectivity to Managed Instance SQL host and port\n\nimport socket\n\ndef test_network_connectivity(host, port, description):\n    \"\"\"Test network connectivity to Managed Instance host and port\"\"\"\n    try:\n        print(f\"🔍 Testing {description}: {host}:{port}\")\n\n        # Test network connectivity\n        sock = socket.socket(socket.AF_INET, socket.SOCK_STREAM)\n        sock.settimeout(10)\n        result = sock.connect_ex((host, port))\n        sock.close()\n\n        if result == 0:\n            print(f\"  ✅ Network connection successful\")\n            return True\n        else:\n            print(f\"  ❌ Network connection failed (error code: {result})\")\n            print(f\"  💡 This may indicate the need for a Managed Instance EAI\")\n            return False\n\n    except Exception as e:\n        print(f\"  ❌ Network Error: {e}\")\n        return False\n\n# Run network connectivity test\nprint(\"=\" * 50)\nprint(\"NETWORK CONNECTIVITY TEST\")\nprint(\"=\" * 50)\n\nnetwork_result = test_network_connectivity(SQL_INSTANCE_HOST, SQL_INSTANCE_PORT, \"Managed Instance Network Connectivity\")\n\nif network_result:\n    print(f\"\\n✅ Network connectivity PASSED - Managed Instance host is reachable\")\n    print(\"You can proceed to test Managed Instance DB authentication.\")\nelse:\n    print(f\"\\n❌ Network connectivity FAILED\")\n    print(\"You need to configure a Managed Instance External Access Integration (EAI).\")\n    print(\"See the Managed Instance EAI Setup section below.\")"
  },
  {
   "cell_type": "code",
   "execution_count": null,
   "id": "bf604a37-4c12-4366-9bd9-ad446eb42021",
   "metadata": {
    "language": "python",
    "name": "authTest"
   },
   "outputs": [],
   "source": "# SQL Server (Azure SQL Managed Instance) Authentication Test\n# Using pure-Python pymssql (works in SPCS)\n\nimport pymssql\n\ndef test_sqlmi_authentication():\n    \"\"\"Test SQL Managed Instance authentication and basic query\"\"\"\n    try:\n        print(f\"🔍 Testing SQL Managed Instance Authentication and Basic Query\")\n\n        print(\"  📦 Using pymssql library (pure Python)\")\n\n        # Create connection\n        conn = pymssql.connect(\n            server=SQL_INSTANCE_HOST,\n            user=SQL_INSTANCE_USER,\n            password=SQL_INSTANCE_PASSWORD,\n            database=SQL_INSTANCE_DATABASE,\n            port=int(SQL_INSTANCE_PORT),\n            tds_version='7.4',     # Important for Azure SQL / TLS 1.2\n            login_timeout=15,\n            timeout=30,\n            charset='UTF-8'\n        )\n\n        print(f\"  ✅ Authentication successful\")\n\n        # Test basic query\n        cursor = conn.cursor()\n        cursor.execute(\"SELECT @@VERSION;\")\n        version = cursor.fetchone()[0]\n        print(f\"  ✅ Database query successful\")\n        print(f\"  📊 SQL Server Version: {version.splitlines()[0]}\")\n\n        # List top 5 tables\n        cursor.execute(\"\"\"\n            SELECT TOP 5 TABLE_SCHEMA, TABLE_NAME\n            FROM INFORMATION_SCHEMA.TABLES\n            ORDER BY TABLE_SCHEMA, TABLE_NAME;\n        \"\"\")\n        tables = cursor.fetchall()\n        print(f\"  📋 Found {len(tables)} tables\")\n        for schema, table in tables:\n            print(f\"     - {schema}.{table}\")\n\n        cursor.close()\n        conn.close()\n        return True\n\n    except Exception as e:\n        print(f\"  ❌ Database Error: {e}\")\n        print(f\"  💡 Check credentials, firewall rules, or network connectivity\")\n        return False\n\n\n# Example usage\nif __name__ == \"__main__\":\n    print(\"=\" * 50)\n    print(\"AZURE SQL MANAGED INSTANCE AUTHENTICATION TEST\")\n    print(\"=\" * 50)\n\n    auth_result = test_sqlmi_authentication()\n\n    if auth_result:\n        print(f\"\\n✅ SQL Managed Instance authentication PASSED\")\n        print(\"Your environment can successfully connect to Azure SQL MI!\")\n    else:\n        print(f\"\\n❌ SQL Managed Instance authentication FAILED\")\n        print(\"Check your credentials or network connectivity.\")\n"
  },
  {
   "cell_type": "markdown",
   "id": "418fd162-a013-444f-a648-70cce5951cea",
   "metadata": {
    "collapsed": false,
    "name": "ManagedInstanceEAISetup"
   },
   "source": "## 3. SQL Managed Instance EAI Setup (Optional)\n\nRun these cells if connectivity tests failed. This creates the necessary network rules and External Access Integration specifically for Managed Instance database access.\n\n**Skip this section if your connectivity tests passed.**"
  },
  {
   "cell_type": "code",
   "execution_count": null,
   "id": "76341d80-6a6e-4318-9047-0258b75c9722",
   "metadata": {
    "language": "sql",
    "name": "createOrReplaceRules",
    "vscode": {
     "languageId": "sql"
    }
   },
   "outputs": [],
   "source": "-- Create Network Rule for Managed Instance connectivity\n-- This allows egress traffic to your specific Managed Instance host and port\n\nUSE ROLE {{IMPLEMENTATION_ROLE}};\n\n-- Network rule for your Managed Instance database server\n-- Uses the variables set in the configuration cell above\nCREATE OR REPLACE NETWORK RULE MANAGED_SQL_RULE\n  MODE = EGRESS\n  TYPE = HOST_PORT\n  VALUE_LIST = ('{{SQL_INSTANCE_HOST}}:{{SQL_INSTANCE_PORT}}');\n\n-- Show the created network rule\nDESCRIBE NETWORK RULE MANAGED_SQL_RULE;"
  },
  {
   "cell_type": "code",
   "execution_count": null,
   "id": "a738f844-c49c-4594-ab85-c7e8a2dcddcf",
   "metadata": {
    "language": "sql",
    "name": "createOrReplaceEAI",
    "vscode": {
     "languageId": "sql"
    }
   },
   "outputs": [],
   "source": "-- Create External Access Integration for Managed Instance\n-- This combines all the network rules into a single integration\n\nCREATE OR REPLACE EXTERNAL ACCESS INTEGRATION MANAGED_SQL_EAI\n  ALLOWED_NETWORK_RULES = (\n    MANAGED_SQL_RULE\n  )\n  ENABLED = TRUE\n  COMMENT = 'External Access Integration for Managed Instance connectivity';\n\n-- Grant usage on the integration to your role\nGRANT USAGE ON INTEGRATION MANAGED_SQL_EAI TO ROLE {{IMPLEMENTATION_ROLE}};\nGRANT USAGE ON INTEGRATION MANAGED_SQL_EAI TO ROLE {{OPENFLOW_RUNTIME_ROLE}};\n\nSHOW EXTERNAL ACCESS INTEGRATIONS LIKE 'MANAGED_SQL_EAI';"
  },
  {
   "cell_type": "code",
   "execution_count": null,
   "id": "3b64620c-a086-44ad-99d7-4d9c48fdd22f",
   "metadata": {
    "language": "sql",
    "name": "applyEAI",
    "vscode": {
     "languageId": "sql"
    }
   },
   "outputs": [],
   "source": "-- Apply Managed Instance EAI to this notebook\n-- This enables the notebook to access your Managed Instance database\n-- Include pypi_access_integration if you created it earlier\n\nALTER NOTEBOOK EAI_MANAGED_SQL\n  SET EXTERNAL_ACCESS_INTEGRATIONS = ('MANAGED_SQL_EAI', 'pypi_access_integration');\n\n  -- Restart your Notebook session after applying an EAI"
  }
 ]
}