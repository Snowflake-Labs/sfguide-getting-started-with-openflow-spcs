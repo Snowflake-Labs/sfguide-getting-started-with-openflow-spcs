{
 "cells": [
  {
   "cell_type": "markdown",
   "id": "92468f8e-21c5-416e-9398-c04ad416dec6",
   "metadata": {
    "collapsed": false,
    "name": "Intro"
   },
   "source": [
    "# SPCS Networking Connectivity Test: Box.com\n",
    "\n",
    "**Note: This Notebook should be run in an SPCS Container for testing to be valid**\n",
    "\n",
    "1. Please provide your Box account subdomain (if using a custom subdomain)\n",
    "2. Check that the Network Rule structure matches your requirements\n",
    "3. Run the Connectivity Test if your EAI is already configured\n",
    "4. Use the Cells to prepare the EAI if needed, then rerun the test.\n",
    "\n",
    "This file contains the basic Enterprise endpoints for Box, for additional Box endpoints and firewall configuration details, see:  \n",
    "https://support.box.com/hc/en-us/articles/360043696434-Configuring-A-Firewall-For-Box-Applications-and-Services"
   ]
  },
  {
   "cell_type": "code",
   "execution_count": null,
   "id": "3775908f-ca36-4846-8f38-5adca39217f2",
   "metadata": {
    "language": "python",
    "name": "initConfig"
   },
   "outputs": [],
   "source": [
    "# Box.com Connectivity Test Configuration\n",
    "\n",
    "# User Configuration - UPDATE THIS if you have a custom subdomain\n",
    "BOX_CUSTOM_SUBDOMAIN = \"\"  # Leave empty for standard Box accounts, or enter your custom subdomain (e.g., \"mycompany\")\n",
    "\n",
    "# Core Box URLs\n",
    "BOX_API_URL = \"https://api.box.com\"\n",
    "BOX_APP_URL = \"https://app.box.com\"\n",
    "BOX_UPLOAD_URL = \"https://upload.box.com\"\n",
    "BOX_DL_URL = \"https://dl.boxcloud.com\"\n",
    "\n",
    "# This role will be used to create the EAI and other objects if necessary\n",
    "IMPLEMENTATION_ROLE = \"ACCOUNTADMIN\"\n",
    "\n",
    "# This role will be used by Openflow to run Connectors and perform your Data Engineering tasks\n",
    "OPENFLOW_RUNTIME_ROLE = \"OPENFLOWRUNTIMEROLE\"\n",
    "\n",
    "print(f\"Configuration:\")\n",
    "print(f\"Box API: {BOX_API_URL}\")\n",
    "print(f\"Box App: {BOX_APP_URL}\")\n",
    "print(f\"Box Upload: {BOX_UPLOAD_URL}\")\n",
    "print(f\"Box Download: {BOX_DL_URL}\")\n",
    "if BOX_CUSTOM_SUBDOMAIN:\n",
    "    print(f\"Custom Subdomain: {BOX_CUSTOM_SUBDOMAIN}\")\n",
    "print(\"\\nReady to test connectivity...\")"
   ]
  },
  {
   "cell_type": "code",
   "execution_count": null,
   "id": "e16c0328-ba0e-4e6f-9044-e9e026349c27",
   "metadata": {
    "language": "python",
    "name": "ConTest"
   },
   "outputs": [],
   "source": [
    "import requests\n",
    "from urllib.parse import urlparse\n",
    "\n",
    "def test_connectivity(url, description):\n",
    "    \"\"\"Test HTTP connectivity to a given URL\"\"\"\n",
    "    try:\n",
    "        print(f\"\\nTesting {description}: {url}\")\n",
    "\n",
    "        # Simple HTTP test - let EAI handle the routing\n",
    "        response = requests.get(url, timeout=10, allow_redirects=True)\n",
    "        print(f\"  HTTP Response: {response.status_code}\")\n",
    "\n",
    "        # Any response means connectivity is working\n",
    "        return True\n",
    "\n",
    "    except requests.exceptions.ConnectionError as e:\n",
    "        print(f\"  Connection Error: {e}\")\n",
    "        return False\n",
    "    except requests.exceptions.Timeout as e:\n",
    "        print(f\"  Timeout Error: {e}\")\n",
    "        return False\n",
    "    except Exception as e:\n",
    "        print(f\"  Error: {e}\")\n",
    "        return False\n",
    "\n",
    "# Run connectivity tests\n",
    "print(\"=\" * 60)\n",
    "print(\"BOX.COM CONNECTIVITY TEST\")\n",
    "print(\"=\" * 60)\n",
    "\n",
    "results = {}\n",
    "results['box_api'] = test_connectivity(BOX_API_URL, \"Box API\")\n",
    "results['box_app'] = test_connectivity(BOX_APP_URL, \"Box App\")\n",
    "results['box_upload'] = test_connectivity(BOX_UPLOAD_URL, \"Box Upload\")\n",
    "results['box_download'] = test_connectivity(BOX_DL_URL, \"Box Download\")\n",
    "\n",
    "if BOX_CUSTOM_SUBDOMAIN:\n",
    "    custom_url = f\"https://{BOX_CUSTOM_SUBDOMAIN}.app.box.com\"\n",
    "    results['box_custom'] = test_connectivity(custom_url, \"Box Custom Subdomain\")\n",
    "\n",
    "print(\"\\n\" + \"=\" * 60)\n",
    "print(\"CONNECTIVITY TEST SUMMARY\")\n",
    "print(\"=\" * 60)\n",
    "\n",
    "all_passed = True\n",
    "for service, passed in results.items():\n",
    "    status = \"PASS\" if passed else \"FAIL\"\n",
    "    print(f\"{service.upper()}: {status}\")\n",
    "    if not passed:\n",
    "        all_passed = False\n",
    "\n",
    "if all_passed:\n",
    "    print(f\"\\nAll connectivity tests PASSED!\")\n",
    "    print(\"Your SPCS environment can reach all required Box.com endpoints.\")\n",
    "    print(\"You can proceed with Box.com integration.\")\n",
    "else:\n",
    "    print(f\"\\nSome connectivity tests FAILED!\")\n",
    "    print(\"You need to configure Snowflake External Access Integration (EAI).\")\n",
    "    print(\"Please run the EAI setup cells below to resolve connectivity issues.\")"
   ]
  },
  {
   "cell_type": "markdown",
   "id": "418fd162-a013-444f-a648-70cce5951cea",
   "metadata": {
    "collapsed": false,
    "name": "advice"
   },
   "source": [
    "If Connectivity testing fails, you can use the Cells below to prepare and implement an EAI suitable for Box.com access.\n",
    "\n",
    "The network rules below include the key Box.com endpoints required for core functionality. For additional endpoints (Box Sign, Box Education, Box for Microsoft Teams, etc.), refer to the Box firewall documentation and add them as needed."
   ]
  },
  {
   "cell_type": "code",
   "execution_count": null,
   "id": "76341d80-6a6e-4318-9047-0258b75c9722",
   "metadata": {
    "language": "sql",
    "name": "createOrReplaceRules",
    "vscode": {
     "languageId": "sql"
    }
   },
   "outputs": [],
   "source": [
    "-- Create Network Rules for Box.com connectivity\n",
    "-- Run this cell if connectivity tests failed\n",
    "\n",
    "-- Network rule for Box.com core services\n",
    "-- These are the key endpoints required for Box.com functionality\n",
    "-- For additional endpoints (Box Sign, Box Education, Box for Microsoft Teams, etc.),\n",
    "-- see https://support.box.com/hc/en-us/articles/360043696434-Configuring-A-Firewall-For-Box-Applications-and-Services\n",
    "\n",
    "CREATE OR REPLACE NETWORK RULE box_connectivity_rule\n",
    "  MODE = EGRESS\n",
    "  TYPE = HOST_PORT\n",
    "  VALUE_LIST = (\n",
    "    -- Core Box domains\n",
    "    '*.box.com:443',\n",
    "    '*.app.box.com:443',\n",
    "    '*.ent.box.com:443',\n",
    "    '*.box.net:443',\n",
    "    '*.boxcdn.net:443',\n",
    "    '*.boxcloud.com:443',\n",
    "    '*.services.box.com:443',\n",
    "    'api.box.com:443',\n",
    "    'app.box.com:443',\n",
    "    'upload.box.com:443',\n",
    "    'dl.boxcloud.com:443',\n",
    "    'account.box.com:443'\n",
    "  );\n",
    "\n",
    "SHOW NETWORK RULES LIKE 'box_%';"
   ]
  },
  {
   "cell_type": "code",
   "execution_count": null,
   "id": "a738f844-c49c-4594-ab85-c7e8a2dcddcf",
   "metadata": {
    "language": "sql",
    "name": "createOrReplaceEAI",
    "vscode": {
     "languageId": "sql"
    }
   },
   "outputs": [],
   "source": [
    "USE ROLE ACCOUNTADMIN;\n",
    "\n",
    "CREATE OR REPLACE EXTERNAL ACCESS INTEGRATION box_eai\n",
    "  ALLOWED_NETWORK_RULES = (\n",
    "    box_connectivity_rule\n",
    "  )\n",
    "  ENABLED = TRUE\n",
    "  COMMENT = 'External Access Integration for Box.com connectivity';\n",
    "\n",
    "GRANT USAGE ON INTEGRATION box_eai TO ROLE {{OPENFLOW_RUNTIME_ROLE}};\n",
    "\n",
    "SHOW EXTERNAL ACCESS INTEGRATIONS LIKE 'box_eai';"
   ]
  },
  {
   "cell_type": "code",
   "execution_count": null,
   "id": "3b64620c-a086-44ad-99d7-4d9c48fdd22f",
   "metadata": {
    "language": "sql",
    "name": "applyEAI",
    "vscode": {
     "languageId": "sql"
    }
   },
   "outputs": [],
   "source": [
    "ALTER NOTEBOOK EAI_BOX\n",
    "  SET EXTERNAL_ACCESS_INTEGRATIONS = ('BOX_EAI');"
   ]
  },
  {
   "cell_type": "markdown",
   "id": "94c9654b-0e51-4489-90d6-6af058741490",
   "metadata": {
    "collapsed": false,
    "name": "testAgain"
   },
   "source": [
    "After Creating and Setting the EAI on the Notebook, run the Connectivity test again.\n",
    "\n",
    "*NOTE: Remember to restart your compute session*"
   ]
  },
  {
   "cell_type": "code",
   "execution_count": null,
   "id": "f1241b69-b673-4b20-9b3b-3ad7d770de26",
   "metadata": {
    "language": "sql",
    "name": "cell2",
    "vscode": {
     "languageId": "sql"
    }
   },
   "outputs": [],
   "source": [
    "-- Check if network rules exist\n",
    "SHOW NETWORK RULES LIKE 'box_%';"
   ]
  },
  {
   "cell_type": "code",
   "execution_count": null,
   "id": "5998eaca-d704-4994-ad3d-a6e0e9c47e1c",
   "metadata": {
    "language": "sql",
    "name": "cell1",
    "vscode": {
     "languageId": "sql"
    }
   },
   "outputs": [],
   "source": [
    "-- Check if EAI exists\n",
    "SHOW EXTERNAL ACCESS INTEGRATIONS LIKE 'box_eai';"
   ]
  }
 ],
 "metadata": {
  "kernelspec": {
   "display_name": "Streamlit Notebook",
   "name": "streamlit"
  },
  "lastEditStatus": {
   "authorEmail": "davinder.mundy@snowflake.com",
   "authorId": "8027671336017",
   "authorName": "DMUNDY",
   "lastEditTime": 1759269064005,
   "notebookId": "z2ihyz3klxk3vn3h3jgx",
   "sessionId": "6edda38f-bf99-458f-8507-e8e90013a41d"
  }
 },
 "nbformat": 4,
 "nbformat_minor": 5
}
