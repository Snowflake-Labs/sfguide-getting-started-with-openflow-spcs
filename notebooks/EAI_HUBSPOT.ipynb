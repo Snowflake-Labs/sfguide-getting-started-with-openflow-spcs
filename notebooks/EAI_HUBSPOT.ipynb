{
 "metadata": {
  "kernelspec": {
   "display_name": "Python 3 (ipykernel)",
   "name": "python3",
   "language": "python"
  },
  "lastEditStatus": {
   "notebookId": "cfg7dc2mfbzitvegsnzm",
   "authorId": "4411002148638",
   "authorName": "ADMIN",
   "authorEmail": "kamil.trysinski@snowflake.com",
   "sessionId": "207a8478-51ca-491c-9023-fe5053c36681",
   "lastEditTime": 1761660759999
  }
 },
 "nbformat_minor": 5,
 "nbformat": 4,
 "cells": [
  {
   "cell_type": "markdown",
   "id": "92468f8e-21c5-416e-9398-c04ad416dec6",
   "metadata": {
    "collapsed": false,
    "codeCollapsed": true,
    "name": "cell1"
   },
   "source": "# SPCS Networking Connectivity Test: Hubspot\n\n**Note: This Notebook should be run in an SPCS Container for testing to be valid**\n\n1. Check that the Network Rule structure matches your requirements.\n2. Run the Connectivity Test if your EAI is already configured.\n3. Use the Cells to prepare the EAI if needed, then rerun the test."
  },
  {
   "cell_type": "code",
   "id": "3775908f-ca36-4846-8f38-5adca39217f2",
   "metadata": {
    "language": "python",
    "name": "cell2"
   },
   "source": "# Hubspot Connectivity Test Configuration\n\n# This role will be used to create the EAI and other objects if necessary\nIMPLEMENTATION_ROLE = \"ACCOUNTADMIN\"\n\n# Hubspot API URL for connectivity test\nHUBSPOT_API_TEST_URL = \"https://api.hubapi.com/crm/v3/objects/companies/search\"\n\nprint(f\"Configuration:\")\nprint(f\"Hubspot API test URL: {HUBSPOT_API_TEST_URL}\")\nprint(\"\\nReady to test connectivity...\")",
   "outputs": [],
   "execution_count": null
  },
  {
   "cell_type": "code",
   "id": "e16c0328-ba0e-4e6f-9044-e9e026349c27",
   "metadata": {
    "language": "python",
    "name": "cell3"
   },
   "source": "import requests\nfrom urllib.parse import urlparse\n\ndef test_connectivity(url, description):\n    \"\"\"Test HTTP connectivity to a given URL\"\"\"\n    try:\n        print(f\"\\n🔍 Testing {description}: {url}\")\n\n        # Simple HTTP test - let EAI handle the routing\n        response = requests.get(url, timeout=10, allow_redirects=True)\n        print(f\"  ✅ HTTP Response: {response.status_code}\")\n\n        # Any response means connectivity is working\n        return True\n\n    except requests.exceptions.ConnectionError as e:\n        print(f\"  ❌ Connection Error: {e}\")\n        return False\n    except requests.exceptions.Timeout as e:\n        print(f\"  ❌ Timeout Error: {e}\")\n        return False\n    except Exception as e:\n        print(f\"  ❌ Error: {e}\")\n        return False\n\n# Run connectivity tests\nprint(\"=\" * 60)\nprint(\"HUBSPOT CONNECTIVITY TEST\")\nprint(\"=\" * 60)\n\nresults = {}\nresults['hubspot_api'] = test_connectivity(HUBSPOT_API_TEST_URL, \"HUBSPOT API\")\n\nprint(\"\\n\" + \"=\" * 60)\nprint(\"CONNECTIVITY TEST SUMMARY\")\nprint(\"=\" * 60)\n\nall_passed = True\nfor service, passed in results.items():\n    status = \"✅ PASS\" if passed else \"❌ FAIL\"\n    print(f\"{service.upper()}: {status}\")\n    if not passed:\n        all_passed = False\n\nif all_passed:\n    print(f\"\\n🎉 All connectivity tests PASSED!\")\n    print(\"Your SPCS environment can reach all required Hubspot endpoints.\")\n    print(\"You can proceed with Hubspot integration.\")\nelse:\n    print(f\"\\n⚠️ Some connectivity tests FAILED!\")\n    print(\"You need to configure Snowflake External Access Integration (EAI).\")\n    print(\"Please run the EAI setup cells below to resolve connectivity issues.\")",
   "outputs": [],
   "execution_count": null
  },
  {
   "cell_type": "markdown",
   "id": "418fd162-a013-444f-a648-70cce5951cea",
   "metadata": {
    "collapsed": false,
    "codeCollapsed": true,
    "name": "cell4"
   },
   "source": "If Connectivity testing fails, you can use the queries below to prepare and implement an EAI suitable for Hubspot API access."
  },
  {
   "cell_type": "code",
   "execution_count": null,
   "id": "76341d80-6a6e-4318-9047-0258b75c9722",
   "metadata": {
    "language": "sql",
    "vscode": {
     "languageId": "sql"
    },
    "resultVariableName": "createOrReplaceRules",
    "name": "cell5"
   },
   "outputs": [],
   "source": "-- Create Network Rules for Hubspot connectivity\n-- Run this cell if connectivity tests failed\n\n-- Network rule for Hubspot API\nCREATE OR REPLACE NETWORK RULE hubspot_connectivity_rule\n  MODE = EGRESS\n  TYPE = HOST_PORT\n  VALUE_LIST = ('api.hubapi.com');\n\nSHOW NETWORK RULES LIKE 'hubspot_%';"
  },
  {
   "cell_type": "code",
   "execution_count": null,
   "id": "a738f844-c49c-4594-ab85-c7e8a2dcddcf",
   "metadata": {
    "language": "sql",
    "vscode": {
     "languageId": "sql"
    },
    "resultVariableName": "createOrReplaceEAI",
    "name": "cell6"
   },
   "outputs": [],
   "source": "use role {{IMPLEMENTATION_ROLE}};\nCREATE OR REPLACE EXTERNAL ACCESS INTEGRATION hubspot_eai\n  ALLOWED_NETWORK_RULES = (hubspot_connectivity_rule)\n  ENABLED = TRUE\n  COMMENT = 'External Access Integration for Hubspot connectivity';\n\n  SHOW EXTERNAL ACCESS INTEGRATIONS LIKE 'hubspot_eai';"
  },
  {
   "cell_type": "code",
   "execution_count": null,
   "id": "3b64620c-a086-44ad-99d7-4d9c48fdd22f",
   "metadata": {
    "language": "sql",
    "vscode": {
     "languageId": "sql"
    },
    "resultVariableName": "applyEAI",
    "name": "cell7"
   },
   "outputs": [],
   "source": "ALTER NOTEBOOK EAI_HUBSPOT\n  SET EXTERNAL_ACCESS_INTEGRATIONS = ('HUBSPOT_EAI');"
  },
  {
   "cell_type": "markdown",
   "id": "94c9654b-0e51-4489-90d6-6af058741490",
   "metadata": {
    "collapsed": false,
    "codeCollapsed": true,
    "name": "cell8"
   },
   "source": "After Creating and Setting the EAI on the Notebook, run the Connectivity test again.\n\n**NOTE: Remember to restart your compute session**"
  },
  {
   "cell_type": "code",
   "execution_count": null,
   "id": "f1241b69-b673-4b20-9b3b-3ad7d770de26",
   "metadata": {
    "language": "sql",
    "vscode": {
     "languageId": "sql"
    },
    "resultVariableName": "cell2",
    "name": "cell9"
   },
   "outputs": [],
   "source": "-- Check if network rules exist\nSHOW NETWORK RULES LIKE 'hubspot_%';"
  },
  {
   "cell_type": "code",
   "execution_count": null,
   "id": "5998eaca-d704-4994-ad3d-a6e0e9c47e1c",
   "metadata": {
    "language": "sql",
    "vscode": {
     "languageId": "sql"
    },
    "resultVariableName": "cell1",
    "name": "cell10"
   },
   "outputs": [],
   "source": "-- Check if EAI exists\nSHOW EXTERNAL ACCESS INTEGRATIONS LIKE 'hubspot_eai';"
  }
 ]
}